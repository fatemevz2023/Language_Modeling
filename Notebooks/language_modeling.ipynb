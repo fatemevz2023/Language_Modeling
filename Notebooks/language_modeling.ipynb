{
  "cells": [
    {
      "cell_type": "markdown",
      "metadata": {
        "id": "-uXkcYhkIxS-"
      },
      "source": [
        "#  <font color='#FFE15D'><b> Language Modeling </b></font>\n"
      ]
    },
    {
      "cell_type": "markdown",
      "metadata": {
        "id": "VrFCH9hpEyip"
      },
      "source": [
        "# 🔴 **Environment Setup**"
      ]
    },
    {
      "cell_type": "markdown",
      "metadata": {
        "id": "uWoVZ_MuKif0"
      },
      "source": [
        "## 🟠 Install Requirements"
      ]
    },
    {
      "cell_type": "code",
      "execution_count": null,
      "metadata": {
        "id": "TjgdGoWmKYwV"
      },
      "outputs": [],
      "source": [
        "!pip install -q portalocker>=2.0.0"
      ]
    },
    {
      "cell_type": "code",
      "source": [
        "!pip install -q torch==2.2.2 \\\n",
        "            torchvision==0.17.2 \\\n",
        "            torchaudio==2.2.2 \\\n",
        "            torchtext==0.17.2 \\\n",
        "            torchmetrics==1.3.1 \\\n",
        "            torchdata==0.7.1 \\\n",
        "            numpy==1.26.4 \\\n",
        "            tqdm==4.67.1\n"
      ],
      "metadata": {
        "id": "BGdK98SODmNk"
      },
      "execution_count": null,
      "outputs": []
    },
    {
      "cell_type": "code",
      "execution_count": null,
      "metadata": {
        "id": "yG_YFiMjY1g_"
      },
      "outputs": [],
      "source": [
        "!pip uninstall torchtune"
      ]
    },
    {
      "cell_type": "markdown",
      "metadata": {
        "id": "w_a3OXnSeV0z"
      },
      "source": [
        "# 🔴 **Import Libs**"
      ]
    },
    {
      "cell_type": "code",
      "execution_count": null,
      "metadata": {
        "id": "vhlVJEkJeTsV"
      },
      "outputs": [],
      "source": [
        "import numpy as np\n",
        "import matplotlib.pyplot as plt\n",
        "\n",
        "import torchtext\n",
        "from torchtext.datasets import WikiText2\n",
        "from torchtext.data.utils import get_tokenizer\n",
        "from torchtext.vocab import build_vocab_from_iterator\n",
        "\n",
        "import torch\n",
        "from torch import nn\n",
        "from torch.utils.data import DataLoader, Dataset, random_split\n",
        "\n",
        "from torch import optim\n",
        "from torch.nn import functional as F\n",
        "\n",
        "import tqdm\n",
        "import torchmetrics as tm\n",
        "\n",
        "from collections import Counter"
      ]
    },
    {
      "cell_type": "code",
      "execution_count": null,
      "metadata": {
        "colab": {
          "base_uri": "https://localhost:8080/"
        },
        "id": "DEzYlyeqTZqQ",
        "outputId": "60722d57-8690-420b-b4ce-190e02e25770"
      },
      "outputs": [
        {
          "output_type": "stream",
          "name": "stdout",
          "text": [
            "Python 3.11.13\n"
          ]
        }
      ],
      "source": [
        "!python --version"
      ]
    },
    {
      "cell_type": "code",
      "execution_count": null,
      "metadata": {
        "colab": {
          "base_uri": "https://localhost:8080/"
        },
        "id": "6DWjGTq6T8Jg",
        "outputId": "5d424dec-5943-4f78-8d4b-c7e3a0dc5788"
      },
      "outputs": [
        {
          "output_type": "stream",
          "name": "stdout",
          "text": [
            "numpy --> 1.26.4\n",
            "torch --> 2.2.2+cu121\n",
            "torchtext --> 0.17.2+cpu\n",
            "tqdm --> 4.67.1\n"
          ]
        }
      ],
      "source": [
        "for lib in [np, torch, torchtext, tqdm]:\n",
        "  print(lib.__name__, '-->', lib.__version__)"
      ]
    },
    {
      "cell_type": "markdown",
      "metadata": {
        "id": "RwaY_YcgRayy"
      },
      "source": [
        "# 🔴 **Utils**"
      ]
    },
    {
      "cell_type": "code",
      "execution_count": null,
      "metadata": {
        "id": "8yMS7bbmRayz"
      },
      "outputs": [],
      "source": [
        "class AverageMeter(object):\n",
        "    \"\"\"Computes and stores the average and current value\"\"\"\n",
        "    def __init__(self):\n",
        "        self.reset()\n",
        "\n",
        "    def reset(self):\n",
        "        self.val = 0\n",
        "        self.avg = 0\n",
        "        self.sum = 0\n",
        "        self.count = 0\n",
        "\n",
        "    def update(self, val, n=1):\n",
        "        self.val = val\n",
        "        self.sum += val * n\n",
        "        self.count += n\n",
        "        self.avg = self.sum / self.count"
      ]
    },
    {
      "cell_type": "code",
      "execution_count": null,
      "metadata": {
        "id": "PpKbTUEIRayz"
      },
      "outputs": [],
      "source": [
        "def num_trainable_params(model):\n",
        "  nums = sum(p.numel() for p in model.parameters() if p.requires_grad)/1e6\n",
        "  return nums"
      ]
    },
    {
      "cell_type": "markdown",
      "metadata": {
        "id": "RTql4Ftiunfr"
      },
      "source": [
        "# 🔴 **Dataset**"
      ]
    },
    {
      "cell_type": "markdown",
      "metadata": {
        "id": "ujIVtjsYvxOI"
      },
      "source": [
        "## 🟠 Load the Dataset"
      ]
    },
    {
      "cell_type": "markdown",
      "metadata": {
        "id": "Ek9DpCNCChzF"
      },
      "source": [
        "🔰 In this session you should load WikiText2 dataset."
      ]
    },
    {
      "cell_type": "code",
      "execution_count": null,
      "metadata": {
        "colab": {
          "base_uri": "https://localhost:8080/",
          "height": 17
        },
        "id": "ShYpXvVzVmP6",
        "outputId": "c55fc8cb-4c78-4aed-eb5a-ef03ad638974"
      },
      "outputs": [
        {
          "data": {
            "text/html": [
              "<style>\n",
              "    body {\n",
              "      font-size: 24px;\n",
              "    }\n",
              "  "
            ],
            "text/plain": [
              "<IPython.core.display.HTML object>"
            ]
          },
          "metadata": {},
          "output_type": "display_data"
        }
      ],
      "source": [
        "#train_iter, valid_iter, test_iter = WikiText2('/content/')"
      ]
    },
    {
      "cell_type": "code",
      "execution_count": null,
      "metadata": {
        "colab": {
          "base_uri": "https://localhost:8080/"
        },
        "id": "sRcUjtVHZwIc",
        "outputId": "d2214f21-c716-47b8-cbfd-e49580e44aaa"
      },
      "outputs": [
        {
          "output_type": "stream",
          "name": "stdout",
          "text": [
            "Archive:  /content/drive/MyDrive/Datasets/wikitext-2-v1.zip\n",
            "   creating: /content/wikitext-2/\n",
            "  inflating: /content/wikitext-2/wiki.test.tokens  \n",
            "  inflating: /content/wikitext-2/wiki.valid.tokens  \n",
            "  inflating: /content/wikitext-2/wiki.train.tokens  \n"
          ]
        }
      ],
      "source": [
        "!unzip '/content/drive/MyDrive/Datasets/wikitext-2-v1.zip' -d '/content/'"
      ]
    },
    {
      "cell_type": "code",
      "source": [
        "from google.colab import drive\n",
        "drive.mount('/content/drive')"
      ],
      "metadata": {
        "colab": {
          "base_uri": "https://localhost:8080/"
        },
        "id": "AxZBwaS-8n4M",
        "outputId": "31810c79-6e25-4c47-dd9d-614ef8df2bd0"
      },
      "execution_count": null,
      "outputs": [
        {
          "output_type": "stream",
          "name": "stdout",
          "text": [
            "Mounted at /content/drive\n"
          ]
        }
      ]
    },
    {
      "cell_type": "code",
      "execution_count": null,
      "metadata": {
        "id": "OuH4tJOualP2"
      },
      "outputs": [],
      "source": [
        "def load_data_iterators(base_path):\n",
        "    import os\n",
        "    def read_file_gen(filename):\n",
        "        filepath = os.path.join(base_path, filename)\n",
        "        with open(filepath, 'r', encoding='utf-8') as f:\n",
        "            yield from (line.strip() for line in f if line.strip() and not line.startswith('='))\n",
        "\n",
        "    train_iter = read_file_gen('wiki.train.tokens')\n",
        "    valid_iter = read_file_gen('wiki.valid.tokens')\n",
        "    test_iter  = read_file_gen('wiki.test.tokens')\n",
        "\n",
        "    return train_iter, valid_iter, test_iter\n"
      ]
    },
    {
      "cell_type": "code",
      "execution_count": null,
      "metadata": {
        "id": "btOwNH65auer"
      },
      "outputs": [],
      "source": [
        "base_path = '/content/wikitext-2'\n",
        "train_iter, valid_iter, test_iter = load_data_iterators(base_path)"
      ]
    },
    {
      "cell_type": "code",
      "execution_count": null,
      "metadata": {
        "colab": {
          "base_uri": "https://localhost:8080/",
          "height": 48
        },
        "id": "fS00tTypNlHJ",
        "outputId": "f0d28d47-c71a-450d-f48e-ef7b2731d8f2"
      },
      "outputs": [
        {
          "data": {
            "text/html": [
              "<style>\n",
              "    body {\n",
              "      font-size: 24px;\n",
              "    }\n",
              "  "
            ],
            "text/plain": [
              "<IPython.core.display.HTML object>"
            ]
          },
          "metadata": {},
          "output_type": "display_data"
        },
        {
          "data": {
            "text/plain": [
              "ShardingFilterIterDataPipe"
            ]
          },
          "execution_count": 11,
          "metadata": {},
          "output_type": "execute_result"
        }
      ],
      "source": [
        "train_iter"
      ]
    },
    {
      "cell_type": "markdown",
      "metadata": {
        "id": "wCi-ofSLCzop"
      },
      "source": [
        "## 🟠 Build vocabulary and save it"
      ]
    },
    {
      "cell_type": "markdown",
      "metadata": {
        "id": "L02PHFuyNRb3"
      },
      "source": [
        "🔰 In this section we need to:\n",
        "\n",
        "*   Define a tokenizer using `basic_english`\n",
        "*   Tokenize the dataset and collect tokens\n",
        "*   Build the vocabulary using `build_vocab_from_iterator`\n",
        "*   Manually insert special tokens and set the default index\n"
      ]
    },
    {
      "cell_type": "code",
      "source": [
        "train_iter, valid_iter, test_iter = load_data_iterators(base_path)"
      ],
      "metadata": {
        "id": "EMxELhWPxY6Q"
      },
      "execution_count": null,
      "outputs": []
    },
    {
      "cell_type": "code",
      "execution_count": null,
      "metadata": {
        "id": "Mta7AoPki4wx"
      },
      "outputs": [],
      "source": [
        "tokenizer = get_tokenizer('basic_english')\n",
        "vocab = build_vocab_from_iterator(map(tokenizer, train_iter), specials=['<unk>'])\n",
        "vocab.set_default_index(vocab['<unk>'])"
      ]
    },
    {
      "cell_type": "code",
      "execution_count": null,
      "metadata": {
        "colab": {
          "base_uri": "https://localhost:8080/"
        },
        "id": "GVUA-zKbjbsA",
        "outputId": "23b252aa-bb9c-490c-9c38-3f9d8dd11d8b"
      },
      "outputs": [
        {
          "output_type": "execute_result",
          "data": {
            "text/plain": [
              "{'攻殻機動隊': 28781,\n",
              " '戦場のヴァルキュリア3': 28780,\n",
              " 'წ': 28776,\n",
              " 'ც': 28774,\n",
              " 'ზ': 28770,\n",
              " 'გ': 28768,\n",
              " '์': 28767,\n",
              " 'ง': 28765,\n",
              " 'กัลยาณมิตร': 28764,\n",
              " 'γ': 28761,\n",
              " 'łaszcz': 28759,\n",
              " 'ürümqi': 28757,\n",
              " 'último': 28756,\n",
              " 'ø': 28754,\n",
              " 'ösel': 28753,\n",
              " 'être': 28752,\n",
              " 'élodie': 28749,\n",
              " 'álvaro': 28748,\n",
              " '§': 28747,\n",
              " 'zuzanna': 28745,\n",
              " 'zuniga': 28744,\n",
              " 'zoromski': 28742,\n",
              " 'zongwang': 28741,\n",
              " 'zhu': 28737,\n",
              " 'zhishen': 28736,\n",
              " 'zhejiang': 28735,\n",
              " 'zhao': 28734,\n",
              " 'zatanna': 28728,\n",
              " 'yvonne': 28720,\n",
              " 'yurikago': 28719,\n",
              " 'yukizuki': 28717,\n",
              " 'ysabel': 28713,\n",
              " 'youngsters': 28711,\n",
              " 'yorkers': 28710,\n",
              " 'yiddish': 28705,\n",
              " 'yesterday': 28704,\n",
              " 'yeoh': 28703,\n",
              " 'yen': 28702,\n",
              " 'yellowwoods': 28701,\n",
              " 'yarder': 28698,\n",
              " 'yammer': 28696,\n",
              " 'yamamoto': 28695,\n",
              " 'xlvii': 28694,\n",
              " 'xfx': 28692,\n",
              " 'xamar': 28691,\n",
              " 'wumpa': 28686,\n",
              " 'wsmv': 28685,\n",
              " 'wrists': 28684,\n",
              " 'wrapping': 28683,\n",
              " 'worshippers': 28681,\n",
              " 'worshiping': 28680,\n",
              " 'worrisome': 28679,\n",
              " 'workload': 28678,\n",
              " 'workhouse': 28677,\n",
              " 'worf': 28676,\n",
              " 'woodcut': 28673,\n",
              " 'wolfgang': 28671,\n",
              " 'wofford': 28669,\n",
              " 'wobble': 28668,\n",
              " 'wn': 28667,\n",
              " 'witticisms': 28665,\n",
              " 'withstood': 28664,\n",
              " 'wirth': 28661,\n",
              " 'winterbottom': 28659,\n",
              " 'windward': 28655,\n",
              " 'willed': 28651,\n",
              " 'wilburys': 28649,\n",
              " 'wilberforce': 28648,\n",
              " 'wiki': 28647,\n",
              " 'wigmore': 28646,\n",
              " 'wieselman': 28645,\n",
              " 'wiesel': 28644,\n",
              " 'wichita': 28642,\n",
              " 'whitman': 28637,\n",
              " 'whitewashed': 28636,\n",
              " 'whitby': 28635,\n",
              " 'whitaker': 28634,\n",
              " 'whimsical': 28632,\n",
              " 'whichever': 28630,\n",
              " 'whatsoever': 28628,\n",
              " 'westerlies': 28622,\n",
              " 'westchester': 28621,\n",
              " 'werner': 28620,\n",
              " 'weiland': 28615,\n",
              " 'wei': 28614,\n",
              " 'wee': 28612,\n",
              " 'wed': 28611,\n",
              " 'wca': 28607,\n",
              " 'wayback': 28606,\n",
              " 'watercolors': 28600,\n",
              " 'wastewater': 28599,\n",
              " 'wasted': 28597,\n",
              " 'wary': 28596,\n",
              " 'warmth': 28594,\n",
              " 'warhead': 28593,\n",
              " 'wander': 28590,\n",
              " 'wanda': 28589,\n",
              " 'wallabies': 28587,\n",
              " 'wakaba': 28586,\n",
              " 'waiouru': 28583,\n",
              " 'wadsworth': 28581,\n",
              " 'wadhurst': 28579,\n",
              " 'waddon': 28578,\n",
              " 'wackett': 28576,\n",
              " 'w3xwt': 28574,\n",
              " 'vukovar': 28572,\n",
              " 'vocalizations': 28561,\n",
              " 'vocabulary': 28559,\n",
              " 'vlachos': 28558,\n",
              " 'visualized': 28555,\n",
              " 'visibly': 28554,\n",
              " 'visceral': 28553,\n",
              " 'vini': 28549,\n",
              " 'vindicated': 28547,\n",
              " 'vilified': 28546,\n",
              " 'vila': 28545,\n",
              " 'vikramāditya': 28544,\n",
              " 'vijay': 28542,\n",
              " 'vignettes': 28541,\n",
              " 'videotape': 28540,\n",
              " 'vickie': 28538,\n",
              " 'vibrate': 28536,\n",
              " 'vested': 28531,\n",
              " 'vest': 28530,\n",
              " 'verso': 28528,\n",
              " 'vent': 28526,\n",
              " 'veneer': 28524,\n",
              " 'velpeau': 28523,\n",
              " 'vectors': 28520,\n",
              " 'varina': 28516,\n",
              " 'vanishing': 28513,\n",
              " 'vanish': 28512,\n",
              " 'vandalised': 28509,\n",
              " 'vallarta': 28507,\n",
              " 'valeria': 28506,\n",
              " 'valens': 28504,\n",
              " 'vaishnavism': 28502,\n",
              " 'vaginal': 28501,\n",
              " 'utterances': 28498,\n",
              " 'utsler': 28497,\n",
              " 'usury': 28496,\n",
              " 'usurpers': 28495,\n",
              " 'ustaša': 28494,\n",
              " 'usaid': 28490,\n",
              " 'urish': 28488,\n",
              " 'urgently': 28487,\n",
              " 'uppingham': 28485,\n",
              " 'uploaded': 28483,\n",
              " 'upkeep': 28482,\n",
              " 'uphill': 28481,\n",
              " 'unworthy': 28478,\n",
              " 'unwittingly': 28477,\n",
              " 'untreated': 28475,\n",
              " 'untimely': 28474,\n",
              " 'unsuited': 28473,\n",
              " 'unsatisfied': 28471,\n",
              " 'unroofed': 28470,\n",
              " 'unremarkable': 28468,\n",
              " 'unrecorded': 28467,\n",
              " 'unprofitable': 28466,\n",
              " 'unpopulated': 28465,\n",
              " 'unorganized': 28462,\n",
              " 'unoccupied': 28461,\n",
              " 'unlocking': 28458,\n",
              " 'unloading': 28457,\n",
              " 'uninterrupted': 28454,\n",
              " 'unimpeded': 28450,\n",
              " 'uniformity': 28449,\n",
              " 'unfit': 28448,\n",
              " 'unexplained': 28445,\n",
              " 'unequivocally': 28444,\n",
              " 'unenviable': 28443,\n",
              " 'undifferentiated': 28440,\n",
              " 'undetermined': 28439,\n",
              " 'undetectable': 28438,\n",
              " 'underworld': 28436,\n",
              " 'undertones': 28435,\n",
              " 'understandably': 28433,\n",
              " 'underhill': 28431,\n",
              " 'underdog': 28428,\n",
              " 'uncooperative': 28426,\n",
              " 'unconsciousness': 28423,\n",
              " 'uncompleted': 28421,\n",
              " 'unchanging': 28420,\n",
              " 'unattractive': 28418,\n",
              " 'unambiguously': 28417,\n",
              " 'umbo': 28414,\n",
              " 'uljin': 28412,\n",
              " 'uist': 28411,\n",
              " 'udupi': 28410,\n",
              " 'uchiyama': 28408,\n",
              " 'tú': 28407,\n",
              " 'typographical': 28405,\n",
              " 'twa': 28398,\n",
              " 'tvline': 28397,\n",
              " 'tuy': 28396,\n",
              " 'tutorial': 28394,\n",
              " 'tuscola': 28393,\n",
              " 'tulane': 28384,\n",
              " 'tuk': 28383,\n",
              " 'tugboat': 28382,\n",
              " 'tuberculosis': 28381,\n",
              " 'ttz': 28379,\n",
              " 'tsu': 28378,\n",
              " 'trustworthy': 28375,\n",
              " 'truro': 28374,\n",
              " 'truncation': 28373,\n",
              " 'trumpet': 28372,\n",
              " 'trophies': 28369,\n",
              " 'troopship': 28367,\n",
              " 'troff': 28363,\n",
              " 'triviality': 28361,\n",
              " 'triquet': 28359,\n",
              " 'tripadi': 28358,\n",
              " 'trigonal': 28356,\n",
              " 'trident': 28353,\n",
              " 'tribulations': 28350,\n",
              " 'triandos': 28348,\n",
              " 'triad': 28347,\n",
              " 'trembling': 28344,\n",
              " 'treeguh': 28343,\n",
              " 'treasonable': 28341,\n",
              " 'travers': 28338,\n",
              " 'trapezoidal': 28337,\n",
              " 'transparency': 28336,\n",
              " 'transfusions': 28330,\n",
              " 'transfers': 28328,\n",
              " 'winfield': 28657,\n",
              " 'transcribes': 28323,\n",
              " 'tranquilizer': 28321,\n",
              " 'tramp': 28319,\n",
              " 'trademarked': 28316,\n",
              " 'tracys': 28315,\n",
              " 'toulouse': 28309,\n",
              " 'toshiko': 28308,\n",
              " 'tonality': 28300,\n",
              " 'tomás': 28299,\n",
              " 'tompkins': 28298,\n",
              " 'tombstone': 28295,\n",
              " 'tomas': 28294,\n",
              " 'tokyopop': 28290,\n",
              " 'toei': 28287,\n",
              " 'tk': 28284,\n",
              " 'tj': 28283,\n",
              " 'titius': 28282,\n",
              " 'titanic': 28279,\n",
              " 'tirat': 28278,\n",
              " 'tipu': 28277,\n",
              " 'tins': 28276,\n",
              " 'undertakings': 28434,\n",
              " 'tinge': 28275,\n",
              " 'timpani': 28274,\n",
              " 'timely': 28273,\n",
              " 'tightness': 28271,\n",
              " 'ticking': 28269,\n",
              " 'thwarted': 28267,\n",
              " 'thwart': 28266,\n",
              " 'thutmose': 28265,\n",
              " 'thumping': 28264,\n",
              " 'thugs': 28263,\n",
              " 'thrush': 28262,\n",
              " 'threadlike': 28257,\n",
              " 'thousandth': 28256,\n",
              " 'thinker': 28253,\n",
              " 'thimble': 28252,\n",
              " 'therosaurus': 28250,\n",
              " 'theba': 28248,\n",
              " 'theatrically': 28247,\n",
              " 'thanh': 28244,\n",
              " 'terria': 28240,\n",
              " 'terreplein': 28239,\n",
              " 'terrence': 28238,\n",
              " 'tensile': 28233,\n",
              " 'tendencies': 28231,\n",
              " 'tempting': 28229,\n",
              " 'telluride': 28225,\n",
              " 'teleplay': 28224,\n",
              " 'tedx': 28221,\n",
              " 'technica': 28219,\n",
              " 'tearful': 28218,\n",
              " 'tatparya': 28213,\n",
              " 'tasmanian': 28211,\n",
              " 'tartrate': 28210,\n",
              " 'tartar': 28209,\n",
              " 'tarrytown': 28208,\n",
              " 'tarore': 28207,\n",
              " 'tarmac': 28206,\n",
              " 'tarakasura': 28205,\n",
              " 'tantrik': 28204,\n",
              " 'tantalum': 28203,\n",
              " 'tangled': 28202,\n",
              " 'tandem': 28201,\n",
              " 'tamara': 28198,\n",
              " 'talok': 28197,\n",
              " 'taker': 28194,\n",
              " 'taikor': 28191,\n",
              " 'tachibana': 28187,\n",
              " 'tablebases': 28186,\n",
              " 'szent': 28182,\n",
              " 'syān': 28181,\n",
              " 'syndication': 28177,\n",
              " 'syncretism': 28175,\n",
              " 'syncopated': 28174,\n",
              " 'synchestra': 28173,\n",
              " 'symptom': 28172,\n",
              " 'sympathizers': 28170,\n",
              " 'symbionts': 28169,\n",
              " 'symbiont': 28168,\n",
              " 'sylvatic': 28167,\n",
              " 'sylvain': 28166,\n",
              " 'syd': 28164,\n",
              " 'sxste': 28163,\n",
              " 'swordsman': 28161,\n",
              " 'sweetums': 28159,\n",
              " 'swampy': 28151,\n",
              " 'sveaborg': 28149,\n",
              " 'svalbard': 28147,\n",
              " 'suzie': 28146,\n",
              " 'suwa': 28145,\n",
              " 'suvla': 28144,\n",
              " 'sutra': 28143,\n",
              " 'sustenance': 28141,\n",
              " 'sustainable': 28140,\n",
              " 'surrendering': 28133,\n",
              " 'surrealism': 28132,\n",
              " 'surmised': 28131,\n",
              " 'suppliers': 28129,\n",
              " 'superstitious': 28126,\n",
              " 'supermarket': 28125,\n",
              " 'supergiants': 28123,\n",
              " 'superfamily': 28122,\n",
              " 'supercomputer': 28121,\n",
              " 'sumner': 28115,\n",
              " 'suffragette': 28112,\n",
              " 'succumbing': 28109,\n",
              " 'subversion': 28108,\n",
              " 'subtext': 28107,\n",
              " 'subsidize': 28104,\n",
              " 'subscribed': 28100,\n",
              " 'subic': 28097,\n",
              " 'sturt': 28093,\n",
              " 'sturmovik': 28092,\n",
              " 'stupnitsky': 28090,\n",
              " 'stunted': 28089,\n",
              " 'stunningly': 28088,\n",
              " 'studs': 28086,\n",
              " 'sulmona': 28113,\n",
              " 'struts': 28082,\n",
              " 'strongholds': 28078,\n",
              " 'strobel': 28077,\n",
              " 'strife': 28076,\n",
              " 'strident': 28075,\n",
              " 'strickland': 28074,\n",
              " 'streisand': 28071,\n",
              " 'streetcar': 28069,\n",
              " 'straying': 28066,\n",
              " 'stravinsky': 28065,\n",
              " 'strategist': 28063,\n",
              " 'strata': 28062,\n",
              " 'strap': 28060,\n",
              " 'stranding': 28057,\n",
              " 'straining': 28056,\n",
              " 'stortford': 28051,\n",
              " 'stollard': 28047,\n",
              " 'stoichiometric': 28046,\n",
              " 'stjepan': 28044,\n",
              " 'stings': 28043,\n",
              " 'stimulus': 28042,\n",
              " 'stimulates': 28041,\n",
              " 'stillborn': 28039,\n",
              " 'stibium': 28038,\n",
              " 'stewardship': 28037,\n",
              " 'sternberg': 28035,\n",
              " 'sterigmata': 28034,\n",
              " 'stereotyping': 28033,\n",
              " 'stepfather': 28030,\n",
              " 'stent': 28029,\n",
              " 'stavro': 28025,\n",
              " 'starkly': 28022,\n",
              " 'starcraft': 28021,\n",
              " 'stalking': 28016,\n",
              " 'stale': 28015,\n",
              " 'stainless': 28012,\n",
              " 'stagnation': 28011,\n",
              " 'stagecoaches': 28009,\n",
              " 'trenchard': 28346,\n",
              " 'stabilizing': 28004,\n",
              " 'stabbing': 28003,\n",
              " 'stabbed': 28002,\n",
              " 'src': 28000,\n",
              " 'squirtle': 27999,\n",
              " 'squandering': 27997,\n",
              " 'spurring': 27996,\n",
              " 'sprinters': 27992,\n",
              " 'spondees': 27984,\n",
              " 'spokane': 27983,\n",
              " 'splitsider': 27982,\n",
              " 'splashes': 27981,\n",
              " 'spitsbergen': 27980,\n",
              " 'spiro': 27977,\n",
              " 'spire': 27975,\n",
              " 'spiny': 27974,\n",
              " 'spinster': 27973,\n",
              " 'spinner': 27971,\n",
              " 'spilled': 27968,\n",
              " 'spill': 27967,\n",
              " 'spiky': 27966,\n",
              " 'spiked': 27965,\n",
              " 'spice': 27961,\n",
              " 'winthrop': 28660,\n",
              " 'spes': 27960,\n",
              " 'speculator': 27958,\n",
              " 'speculations': 27957,\n",
              " 'speculating': 27956,\n",
              " 'spectrograph': 27954,\n",
              " 'specifics': 27952,\n",
              " 'specialising': 27951,\n",
              " 'spanky': 27948,\n",
              " 'spangled': 27947,\n",
              " 'southwesterly': 27946,\n",
              " 'sos': 27939,\n",
              " 'sorted': 27938,\n",
              " 'songbook': 27933,\n",
              " 'somme': 27931,\n",
              " 'solungen': 27929,\n",
              " 'solids': 27927,\n",
              " 'solenoid': 27926,\n",
              " 'soledad': 27924,\n",
              " 'sobriety': 27921,\n",
              " 'sobering': 27920,\n",
              " 'soared': 27917,\n",
              " 'snurposomes': 27915,\n",
              " 'sniping': 27912,\n",
              " 'snaps': 27910,\n",
              " 'sn': 27909,\n",
              " 'smothered': 27908,\n",
              " 'smoothbore': 27907,\n",
              " 'smn': 27905,\n",
              " 'smithy': 27904,\n",
              " 'smithsonian': 27903,\n",
              " 'smithers': 27902,\n",
              " 'smelling': 27901,\n",
              " 'sm': 27897,\n",
              " 'slows': 27894,\n",
              " 'sloped': 27892,\n",
              " 'sloop': 27891,\n",
              " 'slitting': 27890,\n",
              " 'sling': 27888,\n",
              " 'slighted': 27887,\n",
              " 'slezak': 27885,\n",
              " 'slavic': 27883,\n",
              " 'slates': 27882,\n",
              " 'slams': 27880,\n",
              " 'skywalker': 27878,\n",
              " 'skimpy': 27873,\n",
              " 'skilful': 27872,\n",
              " 'skiing': 27871,\n",
              " 'ska': 27869,\n",
              " 'sixties': 27868,\n",
              " 'siti': 27867,\n",
              " 'singaporean': 27862,\n",
              " 'simtek': 27860,\n",
              " 'simms': 27859,\n",
              " 'simango': 27858,\n",
              " 'simakis': 27857,\n",
              " 'silverstone': 27856,\n",
              " 'silverman': 27855,\n",
              " 'silva': 27854,\n",
              " 'silt': 27853,\n",
              " 'siloeman': 27852,\n",
              " 'silently': 27850,\n",
              " 'sihanoukville': 27849,\n",
              " 'signet': 27847,\n",
              " 'signatory': 27846,\n",
              " 'sigmund': 27845,\n",
              " 'sideshow': 27843,\n",
              " 'sidelines': 27842,\n",
              " 'sibley': 27840,\n",
              " 'siberian': 27839,\n",
              " 'shylock': 27837,\n",
              " 'shueisha': 27833,\n",
              " 'shrubbery': 27832,\n",
              " 'showered': 27829,\n",
              " 'showdown': 27828,\n",
              " 'shouldn': 27825,\n",
              " 'shortfall': 27823,\n",
              " 'shoals': 27821,\n",
              " 'shipwrecked': 27819,\n",
              " 'shingles': 27816,\n",
              " 'shines': 27815,\n",
              " 'shinde': 27814,\n",
              " 'shermarke': 27813,\n",
              " 'sherborne': 27812,\n",
              " 'shellac': 27809,\n",
              " 'shebelle': 27808,\n",
              " 'shave': 27806,\n",
              " 'synthpop': 28179,\n",
              " 'shastri': 27804,\n",
              " 'sharper': 27803,\n",
              " 'shank': 27800,\n",
              " 'shan': 27799,\n",
              " 'shalott': 27798,\n",
              " 'shallower': 27797,\n",
              " 'shakes': 27795,\n",
              " 'shaggy': 27793,\n",
              " 'shaffer': 27792,\n",
              " 'shadowed': 27791,\n",
              " 'sfor': 27784,\n",
              " 'wynn': 28687,\n",
              " 'sewell': 27783,\n",
              " 'sesame': 27781,\n",
              " 'serviced': 27780,\n",
              " 'server': 27779,\n",
              " 'serials': 27778,\n",
              " 'étude': 28751,\n",
              " 'serialization': 27777,\n",
              " 'seral': 27773,\n",
              " 'separatist': 27770,\n",
              " 'seoul': 27769,\n",
              " 'sensei': 27766,\n",
              " 'seneca': 27763,\n",
              " 'semilibera': 27762,\n",
              " 'semantic': 27761,\n",
              " 'selects': 27758,\n",
              " 'seitz': 27756,\n",
              " 'segunda': 27755,\n",
              " 'segersäll': 27754,\n",
              " 'seductive': 27752,\n",
              " 'sedis': 27751,\n",
              " 'sedimentation': 27750,\n",
              " 'securely': 27747,\n",
              " 'secretion': 27746,\n",
              " 'uncontested': 28424,\n",
              " 'secretariat': 27745,\n",
              " 'seaweed': 27742,\n",
              " 'seatech': 27741,\n",
              " 'seaplane': 27740,\n",
              " 'seamen': 27739,\n",
              " 'seahawks': 27738,\n",
              " 'seagrass': 27737,\n",
              " 'seafrance': 27736,\n",
              " 'seacouver': 27735,\n",
              " 'seabrook': 27734,\n",
              " 'scrolls': 27731,\n",
              " 'scroll': 27730,\n",
              " 'scrimmage': 27729,\n",
              " 'screws': 27727,\n",
              " 'screenplays': 27725,\n",
              " 'screenings': 27724,\n",
              " 'scraping': 27722,\n",
              " 'scotch': 27719,\n",
              " 'scorers': 27718,\n",
              " 'scolosaurus': 27717,\n",
              " 'schwimmer': 27714,\n",
              " 'schoolchildren': 27708,\n",
              " 'schilling': 27706,\n",
              " 'schauenburg': 27704,\n",
              " 'schadla': 27703,\n",
              " 'scavengers': 27702,\n",
              " 'scarlett': 27700,\n",
              " 'scarborough': 27699,\n",
              " 'scapteriscus': 27698,\n",
              " 'sb2s3': 27694,\n",
              " 'saxons': 27691,\n",
              " 'saville': 27690,\n",
              " 'saux': 27689,\n",
              " 'saul': 27686,\n",
              " 'sauce': 27685,\n",
              " 'saturated': 27684,\n",
              " 'sassy': 27681,\n",
              " 'sassanian': 27679,\n",
              " 'sardinia': 27677,\n",
              " 'sarcasm': 27676,\n",
              " 'santísima': 27672,\n",
              " 'sanskritic': 27671,\n",
              " 'sankara': 27669,\n",
              " 'sandpit': 27666,\n",
              " 'sandman': 27665,\n",
              " 'sancha': 27664,\n",
              " 'samora': 27662,\n",
              " 'sambha': 27661,\n",
              " 'salvo': 27658,\n",
              " 'salvaging': 27657,\n",
              " 'salute': 27656,\n",
              " 'salford': 27653,\n",
              " 'salaried': 27652,\n",
              " 'sakhir': 27650,\n",
              " 'saharan': 27647,\n",
              " 'safeguard': 27646,\n",
              " 'sadistic': 27644,\n",
              " 'saddleworth': 27643,\n",
              " 'régiment': 27637,\n",
              " 'rza': 27636,\n",
              " 'ruthenia': 27633,\n",
              " 'rusty': 27632,\n",
              " 'rust': 27630,\n",
              " 'russ': 27629,\n",
              " 'rushie': 27628,\n",
              " 'ruppert': 27626,\n",
              " 'rumoured': 27625,\n",
              " 'rulership': 27623,\n",
              " 'rukun': 27622,\n",
              " 'ruiz': 27621,\n",
              " 'ruinous': 27620,\n",
              " 'rueben': 27619,\n",
              " 'rudimentary': 27616,\n",
              " 'rubbed': 27614,\n",
              " 'rspb': 27612,\n",
              " 'rowlinson': 27608,\n",
              " 'rowan': 27606,\n",
              " 'routines': 27605,\n",
              " 'rounding': 27602,\n",
              " 'roundabouts': 27601,\n",
              " 'rotting': 27600,\n",
              " 'rotator': 27599,\n",
              " 'rotated': 27597,\n",
              " 'rosenblum': 27596,\n",
              " 'rosen': 27594,\n",
              " 'rosada': 27592,\n",
              " 'rosacarnis': 27591,\n",
              " 'roommates': 27589,\n",
              " 'ronk': 27588,\n",
              " 'ronaldo': 27586,\n",
              " 'rollefson': 27583,\n",
              " 'rolette': 27582,\n",
              " 'robbing': 27576,\n",
              " 'roald': 27575,\n",
              " 'roadside': 27574,\n",
              " 'roadbed': 27571,\n",
              " 'riverbed': 27570,\n",
              " 'rite': 27569,\n",
              " 'ripley': 27567,\n",
              " 'rip': 27566,\n",
              " 'ringtone': 27565,\n",
              " 'rimmer': 27564,\n",
              " 'rikshospitalet': 27563,\n",
              " 'rifled': 27559,\n",
              " 'riela': 27557,\n",
              " 'ridiculously': 27554,\n",
              " 'richdale': 27552,\n",
              " 'ribonuclease': 27550,\n",
              " 'ribchester': 27549,\n",
              " 'ri': 27545,\n",
              " 'rhizomorphs': 27544,\n",
              " 'rhett': 27543,\n",
              " 'rhea': 27541,\n",
              " 'rfc': 27540,\n",
              " 'rezzonico': 27538,\n",
              " 'revisit': 27531,\n",
              " 'reverses': 27529,\n",
              " 'retraction': 27524,\n",
              " 'retractable': 27523,\n",
              " 'retells': 27520,\n",
              " 'retelling': 27519,\n",
              " 'restorations': 27513,\n",
              " 'respectability': 27510,\n",
              " 'respawn': 27509,\n",
              " 'resorts': 27507,\n",
              " 'resorted': 27506,\n",
              " 'resor': 27505,\n",
              " 'resolutions': 27504,\n",
              " 'repute': 27499,\n",
              " 'reprising': 27498,\n",
              " 'reprimanded': 27496,\n",
              " 'repressive': 27495,\n",
              " 'replays': 27492,\n",
              " 'repatriated': 27488,\n",
              " 'reorganize': 27487,\n",
              " 'renovating': 27484,\n",
              " 'rennes': 27483,\n",
              " 'renal': 27479,\n",
              " 'remorse': 27477,\n",
              " 'remodeled': 27476,\n",
              " 'remembrance': 27475,\n",
              " 'remakes': 27474,\n",
              " 'rellstab': 27472,\n",
              " 'relive': 27471,\n",
              " 'reliquaries': 27469,\n",
              " 'relaxing': 27466,\n",
              " 'rekindle': 27464,\n",
              " 'reitan': 27460,\n",
              " 'rehab': 27457,\n",
              " 'regulator': 27456,\n",
              " 'regression': 27454,\n",
              " 'registering': 27453,\n",
              " 'regina': 27452,\n",
              " 'regimen': 27451,\n",
              " 'regia': 27450,\n",
              " 'regalis': 27448,\n",
              " 'refute': 27445,\n",
              " 'refreshed': 27442,\n",
              " 'uzbekistan': 28499,\n",
              " 'referenda': 27439,\n",
              " 'redknapp': 27433,\n",
              " 'suchar': 28110,\n",
              " 'rediscovery': 27432,\n",
              " 'redeployment': 27431,\n",
              " 'redeeming': 27429,\n",
              " 'redeemer': 27428,\n",
              " 'rectify': 27425,\n",
              " 'rectified': 27424,\n",
              " 'recourse': 27422,\n",
              " 'romanians': 27585,\n",
              " 'reconnoitre': 27420,\n",
              " 'receivership': 27415,\n",
              " 'rebuttal': 27413,\n",
              " 'rearmost': 27411,\n",
              " 'reared': 27410,\n",
              " 'realist': 27406,\n",
              " 'realisation': 27404,\n",
              " 'realignment': 27403,\n",
              " 'rb8': 27396,\n",
              " 'ravno': 27393,\n",
              " 'ravenwolf': 27389,\n",
              " 'ravel': 27388,\n",
              " 'raul': 27387,\n",
              " 'rationality': 27384,\n",
              " 'ratification': 27382,\n",
              " 'rashtrakutas': 27380,\n",
              " 'rashida': 27379,\n",
              " 'rashid': 27378,\n",
              " 'raonic': 27373,\n",
              " 'randomized': 27369,\n",
              " 'rance': 27367,\n",
              " 'ramírez': 27366,\n",
              " 'rambam': 27363,\n",
              " 'ramachandra': 27362,\n",
              " 'rahardjo': 27358,\n",
              " 'rafts': 27357,\n",
              " 'radii': 27354,\n",
              " 'radiative': 27353,\n",
              " 'radiating': 27352,\n",
              " 'rack': 27350,\n",
              " 'quraysh': 27348,\n",
              " 'quiz': 27347,\n",
              " 'quinine': 27345,\n",
              " 'qui': 27343,\n",
              " 'qufu': 27342,\n",
              " 'quests': 27341,\n",
              " 'query': 27340,\n",
              " 'queries': 27339,\n",
              " 'queried': 27338,\n",
              " 'quercus': 27337,\n",
              " 'quartered': 27336,\n",
              " 'qualifies': 27332,\n",
              " 'quaint': 27330,\n",
              " 'quail': 27329,\n",
              " 'quahog': 27328,\n",
              " 'qizhou': 27326,\n",
              " 'qiu': 27325,\n",
              " 'qc': 27322,\n",
              " 'pyrite': 27321,\n",
              " 'pyramids': 27320,\n",
              " 'pvc': 27319,\n",
              " 'putsch': 27318,\n",
              " 'pussycat': 27317,\n",
              " 'purposefully': 27316,\n",
              " 'purportedly': 27315,\n",
              " 'purifying': 27314,\n",
              " 'purana': 27312,\n",
              " 'punishments': 27309,\n",
              " 'pune': 27308,\n",
              " 'punched': 27307,\n",
              " 'pulmonary': 27305,\n",
              " 'puget': 27303,\n",
              " 'puffball': 27302,\n",
              " 'puff': 27301,\n",
              " 'puddle': 27300,\n",
              " 'publicist': 27297,\n",
              " 'ptf6': 27294,\n",
              " 'psittacosauridae': 27292,\n",
              " 'pseudonares': 27291,\n",
              " 'pseudo': 27290,\n",
              " 'psalter': 27289,\n",
              " 'prudential': 27287,\n",
              " 'prudence': 27286,\n",
              " 'providers': 27285,\n",
              " 'proudly': 27284,\n",
              " 'protestors': 27283,\n",
              " 'proteomics': 27282,\n",
              " 'prostrate': 27280,\n",
              " 'prospered': 27277,\n",
              " 'proprietors': 27274,\n",
              " 'promiscuity': 27269,\n",
              " 'promenade': 27268,\n",
              " 'prom': 27267,\n",
              " 'prolog': 27266,\n",
              " 'programmable': 27264,\n",
              " 'profitability': 27263,\n",
              " 'procyon': 27260,\n",
              " 'probing': 27258,\n",
              " 'pristine': 27257,\n",
              " 'prickly': 27254,\n",
              " 'prevails': 27252,\n",
              " 'prestwichii': 27250,\n",
              " 'transient': 28331,\n",
              " 'prestwich': 27249,\n",
              " 'presently': 27246,\n",
              " 'preoccupied': 27243,\n",
              " 'premieres': 27242,\n",
              " 'prejudice': 27240,\n",
              " 'prefix': 27237,\n",
              " 'prefaced': 27235,\n",
              " 'predominated': 27233,\n",
              " 'predicament': 27231,\n",
              " 'predetermined': 27230,\n",
              " 'precincts': 27225,\n",
              " 'precarious': 27223,\n",
              " 'practicable': 27219,\n",
              " 'potts': 27216,\n",
              " 'sequenced': 27772,\n",
              " 'possessive': 27212,\n",
              " 'porvenir': 27210,\n",
              " 'popularizing': 27206,\n",
              " 'popularise': 27205,\n",
              " 'popo': 27202,\n",
              " 'pony': 27200,\n",
              " 'pondered': 27197,\n",
              " 'pompeii': 27196,\n",
              " 'polypeptides': 27193,\n",
              " 'polymer': 27190,\n",
              " 'polity': 27189,\n",
              " 'politburo': 27187,\n",
              " 'polemical': 27186,\n",
              " 'polarized': 27185,\n",
              " 'poke': 27182,\n",
              " 'poise': 27181,\n",
              " 'poeti': 27179,\n",
              " 'poduke': 27178,\n",
              " 'podcast': 27177,\n",
              " 'pod': 27176,\n",
              " 'pneumocystis': 27174,\n",
              " 'pledging': 27173,\n",
              " 'pledges': 27172,\n",
              " 'platou': 27167,\n",
              " 'plata': 27165,\n",
              " 'plantagenet': 27164,\n",
              " 'plaintive': 27161,\n",
              " 'plainfield': 27159,\n",
              " 'placards': 27157,\n",
              " 'placard': 27156,\n",
              " 'pizhi': 27155,\n",
              " 'pixie': 27154,\n",
              " 'pitfalls': 27153,\n",
              " 'piracy': 27151,\n",
              " 'pining': 27148,\n",
              " 'pincers': 27146,\n",
              " 'pillsbury': 27145,\n",
              " 'piles': 27142,\n",
              " 'pilasters': 27141,\n",
              " 'pie': 27139,\n",
              " 'picpoul': 27138,\n",
              " 'picket': 27137,\n",
              " 'pickering': 27136,\n",
              " 'photometric': 27135,\n",
              " 'phoenicia': 27133,\n",
              " 'philosophically': 27132,\n",
              " 'philipp': 27131,\n",
              " 'philanthropic': 27130,\n",
              " 'phenotype': 27129,\n",
              " 'pheasant': 27127,\n",
              " 'phan': 27126,\n",
              " 'phallic': 27125,\n",
              " 'phalanges': 27124,\n",
              " 'petershagen': 27119,\n",
              " 'perversion': 27118,\n",
              " 'pervasive': 27117,\n",
              " 'peruvian': 27116,\n",
              " 'persuasive': 27115,\n",
              " 'personages': 27112,\n",
              " 'persistently': 27111,\n",
              " 'permeated': 27107,\n",
              " 'perianth': 27104,\n",
              " 'percentages': 27100,\n",
              " 'peptides': 27099,\n",
              " 'pensacola': 27095,\n",
              " 'pennant': 27093,\n",
              " 'penance': 27089,\n",
              " 'pedigree': 27086,\n",
              " 'pedestrians': 27085,\n",
              " 'peckhams': 27083,\n",
              " 'peccavi': 27082,\n",
              " 'peas': 27081,\n",
              " 'pdt': 27077,\n",
              " 'payoff': 27076,\n",
              " 'pavilions': 27073,\n",
              " 'pavelić': 27072,\n",
              " 'pavel': 27071,\n",
              " 'paulo': 27070,\n",
              " 'patterned': 27069,\n",
              " 'patter': 27068,\n",
              " 'pathology': 27066,\n",
              " 'paternity': 27065,\n",
              " 'patched': 27064,\n",
              " 'pasti': 27063,\n",
              " 'passively': 27062,\n",
              " 'passchendaele': 27061,\n",
              " 'passageways': 27060,\n",
              " 'pas': 27057,\n",
              " 'partway': 27056,\n",
              " 'particulate': 27054,\n",
              " 'parslow': 27053,\n",
              " 'parlabane': 27049,\n",
              " 'parietal': 27047,\n",
              " 'parentage': 27045,\n",
              " 'paraguay': 27043,\n",
              " 'papillae': 27040,\n",
              " 'panigrahana': 27039,\n",
              " 'panchganga': 27036,\n",
              " 'pampas': 27035,\n",
              " 'pals': 27034,\n",
              " 'palkuriki': 27033,\n",
              " 'palette': 27032,\n",
              " 'palermo': 27031,\n",
              " 'palatial': 27030,\n",
              " 'pal': 27026,\n",
              " 'paki': 27025,\n",
              " 'paisley': 27024,\n",
              " 'paik': 27023,\n",
              " 'padukone': 27019,\n",
              " 'ძ': 28775,\n",
              " 'padding': 27017,\n",
              " 'padded': 27016,\n",
              " 'pacifist': 27014,\n",
              " 'oxidizes': 27011,\n",
              " 'overtures': 27008,\n",
              " 'overshadow': 27007,\n",
              " 'overlaps': 27003,\n",
              " 'overhang': 27001,\n",
              " 'overcrowded': 26999,\n",
              " 'ovary': 26996,\n",
              " 'ouverture': 26995,\n",
              " 'outrageously': 26993,\n",
              " 'outfitting': 26989,\n",
              " 'outbursts': 26988,\n",
              " 'outburst': 26987,\n",
              " 'outbreaks': 26986,\n",
              " 'outback': 26984,\n",
              " 'ounces': 26982,\n",
              " 'ost': 26978,\n",
              " 'ornamented': 26972,\n",
              " 'orilla': 26969,\n",
              " 'originator': 26968,\n",
              " 'ordovician': 26967,\n",
              " 'ordinarily': 26966,\n",
              " 'ordeal': 26965,\n",
              " 'orci': 26964,\n",
              " 'orchestrations': 26962,\n",
              " 'orbited': 26960,\n",
              " 'orally': 26959,\n",
              " 'oradea': 26958,\n",
              " 'optioned': 26957,\n",
              " 'opportunistic': 26951,\n",
              " 'oppidum': 26950,\n",
              " 'opinionated': 26949,\n",
              " 'ophelia': 26948,\n",
              " 'onomatopoeia': 26947,\n",
              " 'oni': 26946,\n",
              " 'oncoming': 26944,\n",
              " 'tuscaloosa': 28392,\n",
              " 'omniscient': 26943,\n",
              " 'oliviers': 26941,\n",
              " 'olga': 26939,\n",
              " 'sinks': 27864,\n",
              " 'olfactory': 26938,\n",
              " 'oilers': 26936,\n",
              " 'offside': 26933,\n",
              " 'octave': 26927,\n",
              " 'obsolescent': 26923,\n",
              " 'obo': 26922,\n",
              " 'oblong': 26921,\n",
              " 'oblivious': 26920,\n",
              " 'oberon': 26918,\n",
              " 'oats': 26917,\n",
              " 'oarsmen': 26915,\n",
              " 'nzef': 26912,\n",
              " 'nylon': 26911,\n",
              " 'nx': 26909,\n",
              " 'numerically': 26906,\n",
              " 'numeric': 26905,\n",
              " 'nudity': 26903,\n",
              " 'nucleated': 26901,\n",
              " 'nu': 26898,\n",
              " 'npws': 26895,\n",
              " 'nppl': 26894,\n",
              " 'novorossiysk': 26893,\n",
              " 'novelty': 26890,\n",
              " 'novelists': 26888,\n",
              " 'nourrit': 26886,\n",
              " 'nourishing': 26885,\n",
              " 'notwithstanding': 26884,\n",
              " 'notify': 26882,\n",
              " 'northeasterly': 26879,\n",
              " 'norman-': 26877,\n",
              " 'norges': 26876,\n",
              " 'nord': 26874,\n",
              " 'nonstop': 26873,\n",
              " 'noncombatant': 26871,\n",
              " 'pagasa': 27020,\n",
              " 'nominating': 26870,\n",
              " ...}"
            ]
          },
          "metadata": {},
          "execution_count": 18
        }
      ],
      "source": [
        "vocab.get_stoi()"
      ]
    },
    {
      "cell_type": "code",
      "execution_count": null,
      "metadata": {
        "id": "hQHoTgf7kDBp"
      },
      "outputs": [],
      "source": [
        "torch.save(vocab, '/content/drive/MyDrive/Datasets/vocab.pt')\n",
        "torch.save(vocab, 'vocab.pt')"
      ]
    },
    {
      "cell_type": "markdown",
      "metadata": {
        "id": "B29jrEvwRqXA"
      },
      "source": [
        "## 🟠 EDA"
      ]
    },
    {
      "cell_type": "markdown",
      "metadata": {
        "id": "pHtoYxEPd3bL"
      },
      "source": [
        "### 🟡 Let's explore the WikiText2 dataset!"
      ]
    },
    {
      "cell_type": "markdown",
      "metadata": {
        "id": "A3rnR739GbYb"
      },
      "source": [
        "### 🟡 Calculate basic statistics such as the number of documents, total words, average document length, etc."
      ]
    },
    {
      "cell_type": "markdown",
      "metadata": {
        "id": "a4HyLPqcsF43"
      },
      "source": [
        "### 🟡 Analyze the most common and least common words in the dataset."
      ]
    },
    {
      "cell_type": "code",
      "execution_count": null,
      "metadata": {
        "id": "INiZn9ddcJaE"
      },
      "outputs": [],
      "source": []
    },
    {
      "cell_type": "code",
      "execution_count": null,
      "metadata": {
        "id": "0EEd93CWvCx6"
      },
      "outputs": [],
      "source": [
        "freqs = Counter()\n",
        "for tokens in map(tokenizer, train_iter):\n",
        "  freqs.update(tokens)"
      ]
    },
    {
      "cell_type": "code",
      "execution_count": null,
      "metadata": {
        "colab": {
          "base_uri": "https://localhost:8080/"
        },
        "id": "8o1vUkesvGhA",
        "outputId": "62ebe4ad-db30-4672-93ba-29454f75b2fc"
      },
      "outputs": [
        {
          "data": {
            "text/plain": [
              "[('refreshing', 4),\n",
              " ('aback', 4),\n",
              " ('uproar', 4),\n",
              " ('novi', 4),\n",
              " ('mshd', 4),\n",
              " ('881', 4),\n",
              " ('ibrahima', 4),\n",
              " ('1726', 4),\n",
              " ('mandé', 4),\n",
              " ('yalunka', 4),\n",
              " ('bundu', 4),\n",
              " ('almami', 4),\n",
              " ('donnel', 4),\n",
              " ('cctv', 4),\n",
              " ('fiancée', 4),\n",
              " ('fibres', 4),\n",
              " ('calmly', 4),\n",
              " ('gaviria', 4),\n",
              " ('andes', 4),\n",
              " ('stylized', 4),\n",
              " ('40th', 4),\n",
              " ('zurich', 4),\n",
              " ('rafa', 4),\n",
              " ('jonas', 4),\n",
              " ('mcenroe', 4),\n",
              " ('tiebreaker', 4),\n",
              " ('borg', 4),\n",
              " ('racquets', 4),\n",
              " ('battled', 4),\n",
              " ('tiebreak', 4),\n",
              " ('surpass', 4),\n",
              " ('prolonging', 4),\n",
              " ('baseline', 4),\n",
              " ('forehand', 4),\n",
              " ('dogfights', 4),\n",
              " ('simulators', 4),\n",
              " ('graphical', 4),\n",
              " ('hantzopoulos', 4),\n",
              " ('gauges', 4),\n",
              " ('itcz', 4),\n",
              " ('accelerating', 4),\n",
              " ('mudskippers', 4),\n",
              " ('tasting', 4),\n",
              " ('bbdo', 4),\n",
              " ('squirrels', 4),\n",
              " ('mustang', 4),\n",
              " ('overlapped', 4),\n",
              " ('stella', 4),\n",
              " ('mulhall', 4),\n",
              " ('windass', 4),\n",
              " ('oblivion', 4),\n",
              " ('californicus', 4),\n",
              " ('diets', 4),\n",
              " ('rabbits', 4),\n",
              " ('mites', 4),\n",
              " ('hares', 4),\n",
              " ('sonora', 4),\n",
              " ('wheatgrass', 4),\n",
              " ('coyote', 4),\n",
              " ('lupus', 4),\n",
              " ('tularemia', 4),\n",
              " ('carcasses', 4),\n",
              " ('ismailia', 4),\n",
              " ('kress', 4),\n",
              " ('railhead', 4),\n",
              " ('ferdan', 4),\n",
              " ('125th', 4),\n",
              " ('zealander', 4),\n",
              " ('redoubt', 4),\n",
              " ('hamisah', 4),\n",
              " ('greedy', 4),\n",
              " ('rogan', 4),\n",
              " ('willingly', 4),\n",
              " ('alisandros', 4),\n",
              " ('lana', 4),\n",
              " ('acknowledgment', 4),\n",
              " ('boletinellus', 4),\n",
              " ('gyroporus', 4),\n",
              " ('phlebopus', 4),\n",
              " ('calostoma', 4),\n",
              " ('diplocystis', 4),\n",
              " ('isotopic', 4),\n",
              " ('competitively', 4),\n",
              " ('abeam', 4),\n",
              " ('blitt', 4),\n",
              " ('meg', 4),\n",
              " ('agaricales', 4),\n",
              " ('donoghue', 4),\n",
              " ('penannular', 4),\n",
              " ('brooch', 4),\n",
              " ('whalebone', 4),\n",
              " ('miniatures', 4),\n",
              " ('quatrain', 4),\n",
              " ('ingenuity', 4),\n",
              " ('goodall', 4),\n",
              " ('carmen', 4),\n",
              " ('pagliacci', 4),\n",
              " ('soloists', 4),\n",
              " ('figaro', 4),\n",
              " ('instituted', 4),\n",
              " ('springboks', 4),\n",
              " ('gibbs', 4),\n",
              " ('spirituals', 4),\n",
              " ('gestures', 4),\n",
              " ('deficit', 4),\n",
              " ('seddon', 4),\n",
              " ('1619', 4),\n",
              " ('mikołaj', 4),\n",
              " ('widacki', 4),\n",
              " ('1641', 4),\n",
              " ('regimentarz', 4),\n",
              " ('conclusive', 4),\n",
              " ('wansel', 4),\n",
              " ('popcrush', 4),\n",
              " ('kellman', 4),\n",
              " ('060', 4),\n",
              " ('usable', 4),\n",
              " ('autobiographies', 4),\n",
              " ('bantam', 4),\n",
              " ('fundamentalists', 4),\n",
              " ('unregulated', 4),\n",
              " ('antidote', 4),\n",
              " ('reflective', 4),\n",
              " ('amphorae', 4),\n",
              " ('yangjiang', 4),\n",
              " ('guangxi', 4),\n",
              " ('¥', 4),\n",
              " ('cny', 4),\n",
              " ('chung', 4),\n",
              " ('lifeguard', 4),\n",
              " ('cphc', 4),\n",
              " ('stocked', 4),\n",
              " ('danko', 4),\n",
              " ('reels', 4),\n",
              " ('pacifier', 4),\n",
              " ('cartwright', 4),\n",
              " ('hallmark', 4),\n",
              " ('itchy', 4),\n",
              " ('scratchy', 4),\n",
              " ('rescind', 4),\n",
              " ('rita', 4),\n",
              " ('toby', 4),\n",
              " ('drinks', 4),\n",
              " ('soundstage', 4),\n",
              " ('fantasia', 4),\n",
              " ('infants', 4),\n",
              " ('assurance', 4),\n",
              " ('furlongs', 4),\n",
              " ('filly', 4),\n",
              " ('northcentral', 4),\n",
              " ('montoursville', 4),\n",
              " ('sludge', 4),\n",
              " ('tanning', 4),\n",
              " ('lumbering', 4),\n",
              " ('705', 4),\n",
              " ('bede', 4),\n",
              " ('hexafluoride', 4),\n",
              " ('oxidizing', 4),\n",
              " ('difluoride', 4),\n",
              " ('asymptotic', 4),\n",
              " ('129i', 4),\n",
              " ('133xe', 4),\n",
              " ('polarization', 4),\n",
              " ('emanating', 4),\n",
              " ('meteorites', 4),\n",
              " ('perxenate', 4),\n",
              " ('computed', 4),\n",
              " ('argentines', 4),\n",
              " ('kirchner', 4),\n",
              " ('rivaled', 4),\n",
              " ('antónio', 4),\n",
              " ('inequality', 4),\n",
              " ('lashes', 4),\n",
              " ('cabildo', 4),\n",
              " ('¡', 4),\n",
              " ('agitation', 4),\n",
              " ('oversized', 4),\n",
              " ('fascism', 4),\n",
              " ('maleev', 4),\n",
              " ('ackerson', 4),\n",
              " ('bulletin', 4),\n",
              " ('helgenberger', 4),\n",
              " ('seductress', 4),\n",
              " ('procedural', 4),\n",
              " ('arecibo', 4),\n",
              " ('lennox', 4),\n",
              " ('mutant', 4),\n",
              " ('weed', 4),\n",
              " ('aspirations', 4),\n",
              " ('visualize', 4),\n",
              " ('1225', 4),\n",
              " ('1228', 4),\n",
              " ('1231', 4),\n",
              " ('minstrel', 4),\n",
              " ('reims', 4),\n",
              " ('1205', 4),\n",
              " ('ayyubid', 4),\n",
              " ('pillaged', 4),\n",
              " ('1214', 4),\n",
              " ('negotiation', 4),\n",
              " ('whitewater', 4),\n",
              " ('ecoregion', 4),\n",
              " ('snowmelt', 4),\n",
              " ('cottonwood', 4),\n",
              " ('shrubby', 4),\n",
              " ('grizzly', 4),\n",
              " ('ranch', 4),\n",
              " ('horseshoe', 4),\n",
              " ('prakash', 4),\n",
              " ('catapulted', 4),\n",
              " ('takia', 4),\n",
              " ('pretended', 4),\n",
              " ('mumaith', 4),\n",
              " ('obscene', 4),\n",
              " ('nizam', 4),\n",
              " ('consolidating', 4),\n",
              " ('ferraris', 4),\n",
              " ('chassis', 4),\n",
              " ('jenson', 4),\n",
              " ('glock', 4),\n",
              " ('piquet', 4),\n",
              " ('sutil', 4),\n",
              " ('frontrunners', 4),\n",
              " ('impeded', 4),\n",
              " ('bronzes', 4),\n",
              " ('mules', 4),\n",
              " ('nots', 4),\n",
              " ('rudder', 4),\n",
              " ('unproven', 4),\n",
              " ('seeping', 4),\n",
              " ('megawatts', 4),\n",
              " ('twh', 4),\n",
              " ('denard', 4),\n",
              " ('comoros', 4),\n",
              " ('enlisting', 4),\n",
              " ('cadres', 4),\n",
              " ('asthma', 4),\n",
              " ('ps3', 4),\n",
              " ('stingaree', 4),\n",
              " ('cracksman', 4),\n",
              " ('satisfaction', 4),\n",
              " ('virtuosity', 4),\n",
              " ('eton', 4),\n",
              " ('adamant', 4),\n",
              " ('tryon', 4),\n",
              " ('distributors', 4),\n",
              " ('aloof', 4),\n",
              " ('sandals', 4),\n",
              " ('mort', 4),\n",
              " ('nijmegen', 4),\n",
              " ('jv', 4),\n",
              " ('étienne', 4),\n",
              " ('absolutism', 4),\n",
              " ('mirroring', 4),\n",
              " ('cropped', 4),\n",
              " ('ictus', 4),\n",
              " ('unpredictability', 4),\n",
              " ('spisevognselskap', 4),\n",
              " ('dovre', 4),\n",
              " ('landlady', 4),\n",
              " ('grinder', 4),\n",
              " ('hinds', 4),\n",
              " ('servilia', 4),\n",
              " ('octavia', 4),\n",
              " ('stoic', 4),\n",
              " ('tumultuous', 4),\n",
              " ('lurid', 4),\n",
              " ('nobodies', 4),\n",
              " ('tetsuya', 4),\n",
              " ('modify', 4),\n",
              " ('ansem', 4),\n",
              " ('xemnas', 4),\n",
              " ('amano', 4),\n",
              " ('zx', 4),\n",
              " ('padres', 4),\n",
              " ('unicameral', 4),\n",
              " ('tiered', 4),\n",
              " ('sud', 4),\n",
              " ('josipović', 4),\n",
              " ('kenyan', 4),\n",
              " ('commune', 4),\n",
              " ('scanlan', 4),\n",
              " ('testify', 4),\n",
              " ('batson', 4),\n",
              " ('fraternal', 4),\n",
              " ('undrafted', 4),\n",
              " ('devils', 4),\n",
              " ('crutches', 4),\n",
              " ('vie', 4),\n",
              " ('scoutz', 4),\n",
              " ('syrup', 4),\n",
              " ('milhouse', 4),\n",
              " ('meanders', 4),\n",
              " ('irv', 4),\n",
              " ('cisski', 4),\n",
              " ('wuthering', 4),\n",
              " ('auditorium', 4),\n",
              " ('bfi', 4),\n",
              " ('kean', 4),\n",
              " ('lejeune', 4),\n",
              " ('korda', 4),\n",
              " ('eclipsed', 4),\n",
              " ('searing', 4),\n",
              " ('bragg', 4),\n",
              " ('darlington', 4),\n",
              " ('chandos', 4),\n",
              " ('1706', 4),\n",
              " ('assertiveness', 4),\n",
              " ('entice', 4),\n",
              " ('rudders', 4),\n",
              " ('volts', 4),\n",
              " ('467', 4),\n",
              " ('jammed', 4),\n",
              " ('tripod', 4),\n",
              " ('crippled', 4),\n",
              " ('casablanca', 4),\n",
              " ('puncture', 4),\n",
              " ('gy', 4),\n",
              " ('gastrointestinal', 4),\n",
              " ('lund', 4),\n",
              " ('fluids', 4),\n",
              " ('swamped', 4),\n",
              " ('fremantle', 4),\n",
              " ('entrained', 4),\n",
              " ('lemnos', 4),\n",
              " ('webisode', 4),\n",
              " ('kern', 4),\n",
              " ('blythe', 4),\n",
              " ('hauser', 4),\n",
              " ('cornell', 4),\n",
              " ('infective', 4),\n",
              " ('godsmack', 4),\n",
              " ('turnovers', 4),\n",
              " ('shrank', 4),\n",
              " ('vishnuvardhana', 4),\n",
              " ('dvaita', 4),\n",
              " ('ashtaka', 4),\n",
              " ('janna', 4),\n",
              " ('1330', 4),\n",
              " ('ramanujacharya', 4),\n",
              " ('bards', 4),\n",
              " ('padmarasa', 4),\n",
              " ('1189', 4),\n",
              " ('charitra', 4),\n",
              " ('infatuation', 4),\n",
              " ('resurfacing', 4),\n",
              " ('asceticism', 4),\n",
              " ('adi', 4),\n",
              " ('nirnaya', 4),\n",
              " ('colima', 4),\n",
              " ('cotrona', 4),\n",
              " ('palicki', 4),\n",
              " ('hopping', 4),\n",
              " ('redone', 4),\n",
              " ('ungulates', 4),\n",
              " ('onça', 4),\n",
              " ('cheetah', 4),\n",
              " ('couguar', 4),\n",
              " ('sprints', 4),\n",
              " ('seals', 4),\n",
              " ('shrinks', 4),\n",
              " ('kittens', 4),\n",
              " ('winnebago', 4),\n",
              " ('paradoxical', 4),\n",
              " ('przewalski', 4),\n",
              " ('krayot', 4),\n",
              " ('samak', 4),\n",
              " ('sycaminon', 4),\n",
              " ('kishon', 4),\n",
              " ('retook', 4),\n",
              " ('maris', 4),\n",
              " ('tiberias', 4),\n",
              " ('interred', 4),\n",
              " ('redeployed', 4),\n",
              " ('ashdod', 4),\n",
              " ('merkaz', 4),\n",
              " ('9n', 4),\n",
              " ('cerezo', 4),\n",
              " ('expiration', 4),\n",
              " ('tattoo', 4),\n",
              " ('gators', 4),\n",
              " ('moba', 4),\n",
              " ('collects', 4),\n",
              " ('radiant', 4),\n",
              " ('feak', 4),\n",
              " ('gamescom', 4),\n",
              " ('contributor', 4),\n",
              " ('gametrailers', 4),\n",
              " ('swarm', 4),\n",
              " ('toye', 4),\n",
              " ('toads', 4),\n",
              " ('showrunner', 4),\n",
              " ('immensely', 4),\n",
              " ('brogan', 4),\n",
              " ('swallows', 4),\n",
              " ('nonviolent', 4),\n",
              " ('gawker', 4),\n",
              " ('hackers', 4),\n",
              " ('prolexic', 4),\n",
              " ('pouw', 4),\n",
              " ('melvin', 4),\n",
              " ('aggravated', 4),\n",
              " ('coerced', 4),\n",
              " ('harney', 4),\n",
              " ('boulevards', 4),\n",
              " ('mormon', 4),\n",
              " ('680', 4),\n",
              " ('serene', 4),\n",
              " ('buena', 4),\n",
              " ('vista', 4),\n",
              " ('malayan', 4),\n",
              " ('seclusion', 4),\n",
              " ('autoharp', 4),\n",
              " ('toes', 4),\n",
              " ('1k', 4),\n",
              " ('tancherês', 4),\n",
              " ('ptahhotep', 4),\n",
              " ('courtiers', 4),\n",
              " ('hellenized', 4),\n",
              " ('nyuserre', 4),\n",
              " ('meresankh', 4),\n",
              " ('neserkauhor', 4),\n",
              " ('senedjemib', 4),\n",
              " ('sed', 4),\n",
              " ('inti', 4),\n",
              " ('byblos', 4),\n",
              " ('merenre', 4),\n",
              " ('pepi', 4),\n",
              " ('silverside', 4),\n",
              " ('forester', 4),\n",
              " ('tåsen', 4),\n",
              " ('korsvoll', 4),\n",
              " ('1264', 4),\n",
              " ('secwepemc', 4),\n",
              " ('nehru', 4),\n",
              " ('hoisting', 4),\n",
              " ('jana', 4),\n",
              " ('premonition', 4),\n",
              " ('belize', 4),\n",
              " ('martinique', 4),\n",
              " ('javier', 4),\n",
              " ('lattimore', 4),\n",
              " ('453', 4),\n",
              " ('chesham', 4),\n",
              " ('churchmen', 4),\n",
              " ('propellers', 4),\n",
              " ('tjoet', 4),\n",
              " ('nja', 4),\n",
              " ('pasir', 4),\n",
              " ('sesuatu', 4),\n",
              " ('indah', 4),\n",
              " ('kerikil', 4),\n",
              " ('bandung', 4),\n",
              " ('pavers', 4),\n",
              " ('diabolus', 4),\n",
              " ('mats', 4),\n",
              " ('karagias', 4),\n",
              " ('wrestle', 4),\n",
              " ('wildside', 4),\n",
              " ('pwi', 4),\n",
              " ('wellness', 4),\n",
              " ('wizard', 4),\n",
              " ('neckbreaker', 4),\n",
              " ('groton', 4),\n",
              " ('separatists', 4),\n",
              " ('twisse', 4),\n",
              " ('propositions', 4),\n",
              " ('creeds', 4),\n",
              " ('parishes', 4),\n",
              " ('lochmarne', 4),\n",
              " ('thew', 4),\n",
              " ('kickstarter', 4),\n",
              " ('overflow', 4),\n",
              " ('wippleman', 4),\n",
              " ('loser', 4),\n",
              " ('fatu', 4),\n",
              " ('buyrate', 4),\n",
              " ('theorems', 4),\n",
              " ('theorem', 4),\n",
              " ('schank', 4),\n",
              " ('dependency', 4),\n",
              " ('papert', 4),\n",
              " ('micro', 4),\n",
              " ('sussman', 4),\n",
              " ('cmu', 4),\n",
              " ('mips', 4),\n",
              " ('predicts', 4),\n",
              " ('oc', 4),\n",
              " ('appellation', 4),\n",
              " ('syrah', 4),\n",
              " ('chardonnay', 4),\n",
              " ('vins', 4),\n",
              " ('napier', 4),\n",
              " ('aravind', 4),\n",
              " ('chakraborty', 4),\n",
              " ('gharana', 4),\n",
              " ('ngô', 4),\n",
              " ('tấn', 4),\n",
              " ('plaf', 4),\n",
              " ('quảng', 4),\n",
              " ('tomasevich', 4),\n",
              " ('cyrillic', 4),\n",
              " ('ip', 4),\n",
              " ('delineated', 4),\n",
              " ('hallucinogenic', 4),\n",
              " ('boiling', 4),\n",
              " ('detoxified', 4),\n",
              " ('lithuanians', 4),\n",
              " ('shamans', 4),\n",
              " ('cedars', 4),\n",
              " ('denounce', 4),\n",
              " ('1351', 4),\n",
              " ('1656', 4),\n",
              " ('newgate', 4),\n",
              " ('arundel', 4),\n",
              " ('menagerie', 4),\n",
              " ('ichiro', 4),\n",
              " ('swings', 4),\n",
              " ('milano', 4),\n",
              " ('joss', 4),\n",
              " ('solitarius', 4),\n",
              " ('subfossils', 4),\n",
              " ('pieter', 4),\n",
              " ('holsteyn', 4),\n",
              " ('leguat', 4),\n",
              " ('savery', 4),\n",
              " ('sieur', 4),\n",
              " ('feuilley', 4),\n",
              " ('cao', 4),\n",
              " ('karnow', 4),\n",
              " ('quinta', 4),\n",
              " ('fronted', 4),\n",
              " ('peregrine', 4),\n",
              " ('dissipate', 4),\n",
              " ('kenna', 4),\n",
              " ('298', 4),\n",
              " ('522', 4),\n",
              " ('odile', 4),\n",
              " ('anita', 4),\n",
              " ('hurdling', 4),\n",
              " ('decathlon', 4),\n",
              " ('wenlock', 4),\n",
              " ('organisers', 4),\n",
              " ('mayson', 4),\n",
              " ('heidelberg', 4),\n",
              " ('instalments', 4),\n",
              " ('acton', 4),\n",
              " ('nown', 4),\n",
              " ('dharma', 4),\n",
              " ('ethnically', 4),\n",
              " ('bleiler', 4),\n",
              " ('wandered', 4),\n",
              " ('embankments', 4),\n",
              " ('loaf', 4),\n",
              " ('glued', 4),\n",
              " ('stegosaurians', 4),\n",
              " ('pareiasaur', 4),\n",
              " ('para', 4),\n",
              " ('ornithopods', 4),\n",
              " ('nares', 4),\n",
              " ('premaxillary', 4),\n",
              " ('kentrosaurus', 4),\n",
              " ('huayangosaurus', 4),\n",
              " ('353', 4),\n",
              " ('kamara', 4),\n",
              " ('overclocked', 4),\n",
              " ('screwattack', 4),\n",
              " ('gravestone', 4),\n",
              " ('pembina', 4),\n",
              " ('hidatsa', 4),\n",
              " ('hirosaki', 4),\n",
              " ('conde', 4),\n",
              " ('koma', 4),\n",
              " ('judoka', 4),\n",
              " ('yamashita', 4),\n",
              " ('taka', 4),\n",
              " ('tokugoro', 4),\n",
              " ('laku', 4),\n",
              " ('shimitsu', 4),\n",
              " ('gastão', 4),\n",
              " ('tofu', 4),\n",
              " ('tama', 4),\n",
              " ('shingen', 4),\n",
              " ('polow', 4),\n",
              " ('hologram', 4),\n",
              " ('sternum', 4),\n",
              " ('rimu', 4),\n",
              " ('beaks', 4),\n",
              " ('rakiura', 4),\n",
              " ('skins', 4),\n",
              " ('browsing', 4),\n",
              " ('andi', 4),\n",
              " ('hut', 4),\n",
              " ('fredericksburg', 4),\n",
              " ('wetmore', 4),\n",
              " ('romulans', 4),\n",
              " ('indecent', 4),\n",
              " ('guam', 4),\n",
              " ('orderings', 4),\n",
              " ('np', 4),\n",
              " ('subgraph', 4),\n",
              " ('endpoint', 4),\n",
              " ('kōkaku', 4),\n",
              " ('cybernetic', 4),\n",
              " ('2501', 4),\n",
              " ('yamato', 4),\n",
              " ('undecided', 4),\n",
              " ('sociologists', 4),\n",
              " ('verbally', 4),\n",
              " ('balch', 4),\n",
              " ('abduction', 4),\n",
              " ('kringen', 4),\n",
              " ('supervisory', 4),\n",
              " ('longues', 4),\n",
              " ('avre', 4),\n",
              " ('harbours', 4),\n",
              " ('northumbrian', 4),\n",
              " ('231st', 4),\n",
              " ('rasc', 4),\n",
              " ('orne', 4),\n",
              " ('crépon', 4),\n",
              " ('occupants', 4),\n",
              " ('varpas', 4),\n",
              " ('findspot', 4),\n",
              " ('shinnok', 4),\n",
              " ('quan', 4),\n",
              " ('yorke', 4),\n",
              " ('horner', 4),\n",
              " ('q3', 4),\n",
              " ('magnussen', 4),\n",
              " ('stewards', 4),\n",
              " ('ludacris', 4),\n",
              " ('shawnna', 4),\n",
              " ('therepio', 4),\n",
              " ('alla', 4),\n",
              " ('qur', 4),\n",
              " ('ā', 4),\n",
              " ('rainforests', 4),\n",
              " ('bites', 4),\n",
              " ('ld50', 4),\n",
              " ('fowley', 4),\n",
              " ('ngebe', 4),\n",
              " ('ryūjinmura', 4),\n",
              " ('shigure', 4),\n",
              " ('tenets', 4),\n",
              " ('locusts', 4),\n",
              " ('vineae', 4),\n",
              " ('pathogens', 4),\n",
              " ('scapterisci', 4),\n",
              " ('pastures', 4),\n",
              " ('blazed', 4),\n",
              " ('853d', 4),\n",
              " ('souper', 4),\n",
              " ('robespierre', 4),\n",
              " ('caizhou', 4),\n",
              " ('1140', 4),\n",
              " ('yingtianfu', 4),\n",
              " ('xiangyang', 4),\n",
              " ('shizong', 4),\n",
              " ('火礮', 4),\n",
              " ('hmc', 4),\n",
              " ('t30s', 4),\n",
              " ('nod', 4),\n",
              " ('tittenhurst', 4),\n",
              " ('triatomine', 4),\n",
              " ('trypomastigotes', 4),\n",
              " ('triatoma', 4),\n",
              " ('bahía', 4),\n",
              " ('undulating', 4),\n",
              " ('nurseries', 4),\n",
              " ('kiplin', 4),\n",
              " ('seminoles', 4),\n",
              " ('sawgrass', 4),\n",
              " ('glades', 4),\n",
              " ('biscayne', 4),\n",
              " ('stoneman', 4),\n",
              " ('eaa', 4),\n",
              " ('dcpa', 4),\n",
              " ('honeymooners', 4),\n",
              " ('hyman', 4),\n",
              " ('upt', 4),\n",
              " ('cordon', 4),\n",
              " ('osmond', 4),\n",
              " ('aweary', 4),\n",
              " ('fatima', 4),\n",
              " ('a5', 4),\n",
              " ('manorina', 4),\n",
              " ('leachi', 4),\n",
              " ('ironbark', 4),\n",
              " ('bathe', 4),\n",
              " ('coteries', 4),\n",
              " ('eater', 4),\n",
              " ('merops', 4),\n",
              " ('exclusivity', 4),\n",
              " ('karyopherins', 4),\n",
              " ('heterochromatin', 4),\n",
              " ('paraspeckles', 4),\n",
              " ('coilin', 4),\n",
              " ('interchromatin', 4),\n",
              " ('rangtp', 4),\n",
              " ('disassembly', 4),\n",
              " ('apoptosis', 4),\n",
              " ('hydrated', 4),\n",
              " ('·', 4),\n",
              " ('cerium', 4),\n",
              " ('sublimation', 4),\n",
              " ('keck', 4),\n",
              " ('declination', 4),\n",
              " ('peninsulas', 4),\n",
              " ('strathaird', 4),\n",
              " ('meic', 4),\n",
              " ('oxymoron', 4),\n",
              " ('oahe', 4),\n",
              " ('km3', 4),\n",
              " ('gavins', 4),\n",
              " ('meriwether', 4),\n",
              " ('tulloch', 4),\n",
              " ('bland', 4),\n",
              " ('conduit', 4),\n",
              " ('thrive', 4),\n",
              " ('idina', 4),\n",
              " ('mckinley', 4),\n",
              " ('kubicek', 4),\n",
              " ('clichéd', 4),\n",
              " ('respers', 4),\n",
              " ('futterman', 4),\n",
              " ('larroquette', 4),\n",
              " ('ramsbury', 4),\n",
              " ('hagiography', 4),\n",
              " ('gallimard', 4),\n",
              " ('stis', 4),\n",
              " ('polyisoprene', 4),\n",
              " ('std', 4),\n",
              " ('allergic', 4),\n",
              " ('nonoxynol', 4),\n",
              " ('glans', 4),\n",
              " ('pugliese', 4),\n",
              " ('rossiya', 4),\n",
              " ('molotovsk', 4),\n",
              " ('sardi', 4),\n",
              " ('giring', 4),\n",
              " ('walidah', 4),\n",
              " ('barremian', 4),\n",
              " ('camptosaurus', 4),\n",
              " ('dollo', 4),\n",
              " ('iguanodonts', 4),\n",
              " ('fours', 4),\n",
              " ('cassowary', 4),\n",
              " ('joystick', 4),\n",
              " ('muybridge', 4),\n",
              " ('scars', 4),\n",
              " ('um', 4),\n",
              " ('teddy', 4),\n",
              " ('jowell', 4),\n",
              " ('berm', 4),\n",
              " ('olorotitan', 4),\n",
              " ('integument', 4),\n",
              " ('kritosaurus', 4),\n",
              " ('premaxillaries', 4),\n",
              " ('prefrontals', 4),\n",
              " ('trackage', 4),\n",
              " ('vāda', 4),\n",
              " ('syāt', 4),\n",
              " ('samantabhadra', 4),\n",
              " ('asti', 4),\n",
              " ('nāsti', 4),\n",
              " ('avaktavyaḥ', 4),\n",
              " ('indescribable', 4),\n",
              " ('dravya', 4),\n",
              " ('hinduism', 4),\n",
              " ('oosterbeek', 4),\n",
              " ('naruhodō', 4),\n",
              " ('layton', 4),\n",
              " ('vietnamization', 4),\n",
              " ('cham', 4),\n",
              " ('ptychoverpa', 4),\n",
              " ('kolkata', 4),\n",
              " ('kanpur', 4),\n",
              " ('tulsidas', 4),\n",
              " ('kabir', 4),\n",
              " ('maratha', 4),\n",
              " ('varuna', 4),\n",
              " ('assi', 4),\n",
              " ('mosques', 4),\n",
              " ('agglomeration', 4),\n",
              " ('ayurvedic', 4),\n",
              " ('jantar', 4),\n",
              " ('mantar', 4),\n",
              " ('maharaj', 4),\n",
              " ('sunspot', 4),\n",
              " ('anketell', 4),\n",
              " ('northam', 4),\n",
              " ('rabaul', 4),\n",
              " ('sumatra', 4),\n",
              " ('mashtots', 4),\n",
              " ('ჯ', 4),\n",
              " ('ი', 4),\n",
              " ('ო', 4),\n",
              " ('ხ', 4),\n",
              " ('ossetian', 4),\n",
              " ('ვ', 4),\n",
              " ('კ', 4),\n",
              " ('tbilisi', 4),\n",
              " ('yamu', 4),\n",
              " ('bhandara', 4),\n",
              " ('151eu', 4),\n",
              " ('154eu', 4),\n",
              " ('gadolinium', 4),\n",
              " ('bulbs', 4),\n",
              " ('lerew', 4),\n",
              " ('usaaf', 4),\n",
              " ('capensis', 4),\n",
              " ('haga', 4),\n",
              " ('wag', 4),\n",
              " ('segmental', 4),\n",
              " ('trapdoor', 4),\n",
              " ('brackenburn', 4),\n",
              " ('cheevers', 4),\n",
              " ('fetishist', 4),\n",
              " ('necrophiliac', 4),\n",
              " ('supercar', 4),\n",
              " ('dyneley', 4),\n",
              " ('piloted', 4),\n",
              " ('kyrano', 4),\n",
              " ('bignell', 4),\n",
              " ('cull', 4),\n",
              " ('carbuncle', 4),\n",
              " ('boobs', 4),\n",
              " ('broadoak', 4),\n",
              " ('bogotá', 4),\n",
              " ('vergara', 4),\n",
              " ('oxbow', 4),\n",
              " ('carnation', 4),\n",
              " ('niassa', 4),\n",
              " ('lourenço', 4),\n",
              " ('machel', 4),\n",
              " ('tete', 4),\n",
              " ('landmines', 4),\n",
              " ('pide', 4),\n",
              " ('kaúlza', 4),\n",
              " ('flechas', 4),\n",
              " ('wiriyamu', 4),\n",
              " ('threepwood', 4),\n",
              " ('eshmunazar', 4),\n",
              " ('bodashtart', 4),\n",
              " ('nymphaeum', 4),\n",
              " ('düsseldorf', 4),\n",
              " ('kaspar', 4),\n",
              " ('bassermann', 4),\n",
              " ('filucius', 4),\n",
              " ('kinetics', 4),\n",
              " ('steffie', 4),\n",
              " ('pulsar', 4),\n",
              " ('galactic', 4),\n",
              " ('monogram', 4),\n",
              " ('firs', 4),\n",
              " ('pianists', 4),\n",
              " ('sorabji', 4),\n",
              " ('napoléon', 4),\n",
              " ('solfège', 4),\n",
              " ('franck', 4),\n",
              " ('marmontel', 4),\n",
              " ('préludes', 4),\n",
              " ('hiller', 4),\n",
              " ('tous', 4),\n",
              " ('érard', 4),\n",
              " ('sturnus', 4),\n",
              " ('sturnidae', 4),\n",
              " ('zetlandicus', 4),\n",
              " ('flea', 4),\n",
              " ('戦場のヴァルキュリア3', 3),\n",
              " ('europan', 3),\n",
              " ('honjou', 3),\n",
              " ('hitoshi', 3),\n",
              " ('ozawa', 3),\n",
              " ('potentials', 3),\n",
              " ('innate', 3),\n",
              " ('impede', 3),\n",
              " ('imca', 3),\n",
              " ('stats', 3),\n",
              " ('falsely', 3),\n",
              " ('redeem', 3),\n",
              " ('riela', 3),\n",
              " ('422nd', 3),\n",
              " ('benefactor', 3),\n",
              " ('newfound', 3),\n",
              " ('individuality', 3),\n",
              " ('unpopularity', 3),\n",
              " ('tweaks', 3),\n",
              " ('geddes', 3),\n",
              " ('enjoying', 3),\n",
              " ('kotaku', 3),\n",
              " ('jockey', 3),\n",
              " ('harrel', 3),\n",
              " ('surrendering', 3),\n",
              " ('fabrication', 3),\n",
              " ('confederates', 3),\n",
              " ('smoothbore', 3),\n",
              " ('864', 3),\n",
              " ('364', 3),\n",
              " ('surmised', 3),\n",
              " ('mustered', 3),\n",
              " ('destitute', 3),\n",
              " ('undertakings', 3),\n",
              " ('conscripted', 3),\n",
              " ('236', 3),\n",
              " ('packages', 3),\n",
              " ('hoist', 3),\n",
              " ('unoccupied', 3),\n",
              " ('babcock', 3),\n",
              " ('girlhood', 3),\n",
              " ('artworks', 3),\n",
              " ('fundraisers', 3),\n",
              " ('waddon', 3),\n",
              " ('caldecott', 3),\n",
              " ('advertiser', 3),\n",
              " ('calthrop', 3),\n",
              " ('borrow', 3),\n",
              " ('whitby', 3),\n",
              " ('fondness', 3),\n",
              " ('rushie', 3),\n",
              " ('necklaces', 3),\n",
              " ('₤', 3),\n",
              " ('sos', 3),\n",
              " ('tamba', 3),\n",
              " ('abuses', 3),\n",
              " ('staffers', 3),\n",
              " ('neotrygon', 3),\n",
              " ('annotata', 3),\n",
              " ('bottomed', 3),\n",
              " ('patterned', 3),\n",
              " ('trawls', 3),\n",
              " ('gracile', 3),\n",
              " ('csiro', 3),\n",
              " ('sequenced', 3),\n",
              " ('sorted', 3),\n",
              " ('converge', 3),\n",
              " ('flap', 3),\n",
              " ('papillae', 3),\n",
              " ('stings', 3),\n",
              " ('denticles', 3),\n",
              " ('midline', 3),\n",
              " ('dweller', 3),\n",
              " ('hunts', 3),\n",
              " ('ovary', 3),\n",
              " ('newborns', 3),\n",
              " ('widths', 3),\n",
              " ('fished', 3),\n",
              " ('intensively', 3),\n",
              " ('oilers', 3),\n",
              " ('islanders', 3),\n",
              " ('canucks', 3),\n",
              " ('waive', 3),\n",
              " ('thanked', 3),\n",
              " ('reiterating', 3),\n",
              " ('froze', 3),\n",
              " ('000th', 3),\n",
              " ('1580', 3),\n",
              " ('della', 3),\n",
              " ('embellished', 3),\n",
              " ('gilii', 3),\n",
              " ('comets', 3),\n",
              " ('conforming', 3),\n",
              " ('meteorologist', 3),\n",
              " ('272', 3),\n",
              " ('bromide', 3),\n",
              " ('calming', 3),\n",
              " ('muhammed', 3),\n",
              " ('denouncing', 3),\n",
              " ('idealistic', 3),\n",
              " ('wyo', 3),\n",
              " ('courthouse', 3),\n",
              " ('tonnage', 3),\n",
              " ('762', 3),\n",
              " ('rounding', 3),\n",
              " ('006', 3),\n",
              " ('angled', 3),\n",
              " ('191', 3),\n",
              " ('508', 3),\n",
              " ('lever', 3),\n",
              " ('forsaken', 3),\n",
              " ('leaks', 3),\n",
              " ('josiah', 3),\n",
              " ('timely', 3),\n",
              " ('coaling', 3),\n",
              " ('tugboat', 3),\n",
              " ('cleanly', 3),\n",
              " ('dahlgren', 3),\n",
              " ('sylvain', 3),\n",
              " ('aspired', 3),\n",
              " ('jasmine', 3),\n",
              " ('ndtv', 3),\n",
              " ('rajeev', 3),\n",
              " ('masand', 3),\n",
              " ('gaurav', 3),\n",
              " ('tempting', 3),\n",
              " ('padukone', 3),\n",
              " ('pretentious', 3),\n",
              " ('jha', 3),\n",
              " ('emotive', 3),\n",
              " ...]"
            ]
          },
          "execution_count": 27,
          "metadata": {},
          "output_type": "execute_result"
        }
      ],
      "source": [
        "freqs.most_common()[-6000:]"
      ]
    },
    {
      "cell_type": "markdown",
      "metadata": {
        "id": "cfBasjQCE_aI"
      },
      "source": [
        "### 🟡  Please proceed with further exploration of the dataset. what do you suggest?"
      ]
    },
    {
      "cell_type": "code",
      "execution_count": null,
      "metadata": {
        "id": "yR8uQsv4E_aJ"
      },
      "outputs": [],
      "source": []
    },
    {
      "cell_type": "markdown",
      "metadata": {
        "id": "idRexFij4wgN"
      },
      "source": [
        "## 🟠 Transform the data"
      ]
    },
    {
      "cell_type": "markdown",
      "metadata": {
        "id": "2VjvBOtvHu2v"
      },
      "source": [
        "🛑 Make sure to perform the transformations on train, validation and test datasets."
      ]
    },
    {
      "cell_type": "markdown",
      "metadata": {
        "id": "ApisIcGeGSsJ"
      },
      "source": [
        "🔰 Reshape the dataset into an `N x B x L` or `M x L` format, where `N` represents the number of batches, `B` is the batch size, `L` is the length of a sample within each batch, and `M` is equal to `N x B`."
      ]
    },
    {
      "cell_type": "code",
      "execution_count": null,
      "metadata": {
        "id": "4A3LeRkvcRyv"
      },
      "outputs": [],
      "source": [
        "train_iter, valid_iter, test_iter = load_data_iterators(base_path)"
      ]
    },
    {
      "cell_type": "code",
      "execution_count": null,
      "metadata": {
        "colab": {
          "base_uri": "https://localhost:8080/"
        },
        "id": "4GndG2B0WPIb",
        "outputId": "5a031a31-d14e-4b02-b0ed-5546a023bb05"
      },
      "outputs": [
        {
          "output_type": "execute_result",
          "data": {
            "text/plain": [
              "(torch.Size([17083, 120]), torch.Size([17083, 120]))"
            ]
          },
          "metadata": {},
          "execution_count": 25
        }
      ],
      "source": [
        "data = torch.cat([torch.LongTensor(vocab(tokenizer(line))) for line in train_iter])\n",
        "\n",
        "seq_len = 120\n",
        "M = len(data) // seq_len\n",
        "\n",
        "r = len(data) % seq_len\n",
        "data = torch.cat((data, torch.LongTensor([0]))) if r==0 else data\n",
        "\n",
        "inputs = data[:M*seq_len]\n",
        "inputs = inputs.reshape(-1, seq_len)\n",
        "\n",
        "targets = data[1:M*seq_len+1]\n",
        "targets = targets.reshape(-1, seq_len)\n",
        "\n",
        "inputs.shape, targets.shape"
      ]
    },
    {
      "cell_type": "code",
      "execution_count": null,
      "metadata": {
        "id": "ocxM8YdsWH-1"
      },
      "outputs": [],
      "source": [
        "def data_process(raw_text_iter, seq_len):\n",
        "  data = torch.cat([torch.LongTensor(vocab(tokenizer(line))) for line in raw_text_iter])\n",
        "\n",
        "  M = len(data) // seq_len\n",
        "\n",
        "  r = len(data) % seq_len\n",
        "  data = torch.cat((data, torch.LongTensor([0]))) if r==0 else data\n",
        "\n",
        "  inputs = data[:M*seq_len]\n",
        "  inputs = inputs.reshape(-1, seq_len)\n",
        "\n",
        "  targets = data[1:M*seq_len+1]\n",
        "  targets = targets.reshape(-1, seq_len)\n",
        "\n",
        "  return inputs, targets"
      ]
    },
    {
      "cell_type": "code",
      "execution_count": null,
      "metadata": {
        "id": "G4HVzm6wQdfO"
      },
      "outputs": [],
      "source": [
        "del data, inputs, targets"
      ]
    },
    {
      "cell_type": "code",
      "execution_count": null,
      "metadata": {
        "colab": {
          "base_uri": "https://localhost:8080/"
        },
        "id": "Gk3PeklyPxC7",
        "outputId": "cd31ee1f-34e6-449f-915f-6bd15daef09a"
      },
      "outputs": [
        {
          "output_type": "execute_result",
          "data": {
            "text/plain": [
              "(torch.Size([31538, 65]), torch.Size([31538, 65]))"
            ]
          },
          "metadata": {},
          "execution_count": 30
        }
      ],
      "source": [
        "inputs, targets = data_process(train_iter, seq_len=65)\n",
        "inputs.shape, targets.shape"
      ]
    },
    {
      "cell_type": "code",
      "execution_count": null,
      "metadata": {
        "colab": {
          "base_uri": "https://localhost:8080/"
        },
        "id": "Y1Am95DPRUOo",
        "outputId": "d976deba-3256-4221-e1cb-bde3e528e5eb"
      },
      "outputs": [
        {
          "output_type": "execute_result",
          "data": {
            "text/plain": [
              "(torch.Size([58571, 35]),\n",
              " torch.Size([58571, 35]),\n",
              " torch.Size([6126, 35]),\n",
              " torch.Size([6126, 35]),\n",
              " torch.Size([6910, 35]),\n",
              " torch.Size([6910, 35]))"
            ]
          },
          "metadata": {},
          "execution_count": 33
        }
      ],
      "source": [
        "seq_len = 35\n",
        "\n",
        "X_train, y_train = data_process(train_iter, seq_len)\n",
        "X_valid, y_valid = data_process(valid_iter, seq_len)\n",
        "X_test, y_test = data_process(test_iter, seq_len)\n",
        "\n",
        "X_train.shape, y_train.shape, X_valid.shape, y_valid.shape, X_test.shape, y_test.shape"
      ]
    },
    {
      "cell_type": "markdown",
      "metadata": {
        "id": "PgLgP04P4-aX"
      },
      "source": [
        "## 🟠 Custom dataset"
      ]
    },
    {
      "cell_type": "markdown",
      "metadata": {
        "id": "XkxH_IR2PBNq"
      },
      "source": [
        "🔰 Write a custom dataset class for LanguageModelDataset."
      ]
    },
    {
      "cell_type": "code",
      "execution_count": null,
      "metadata": {
        "id": "1cjpSkrtexap"
      },
      "outputs": [],
      "source": [
        "class LanguageModelDataset(Dataset):\n",
        "\n",
        "  def __init__(self, inputs, targets):\n",
        "    self.inputs = inputs\n",
        "    self.targets = targets\n",
        "\n",
        "  def __len__(self):\n",
        "    return self.inputs.shape[0]\n",
        "\n",
        "  def __getitem__(self, idx):\n",
        "    return self.inputs[idx], self.targets[idx]"
      ]
    },
    {
      "cell_type": "code",
      "execution_count": null,
      "metadata": {
        "id": "o0qUkL0CfQmr"
      },
      "outputs": [],
      "source": [
        "train_set = LanguageModelDataset(X_train, y_train)\n",
        "valid_set = LanguageModelDataset(X_valid, y_valid)\n",
        "test_set = LanguageModelDataset(X_test, y_test)"
      ]
    },
    {
      "cell_type": "code",
      "execution_count": null,
      "metadata": {
        "colab": {
          "base_uri": "https://localhost:8080/"
        },
        "id": "92IiPxSMSPdz",
        "outputId": "d42b5b45-d7d0-4ac6-a783-0fd3c3593753"
      },
      "outputs": [
        {
          "output_type": "execute_result",
          "data": {
            "text/plain": [
              "(tensor([    9,  3849,  3869,   881,     9, 20000,    83,  3849,    88,     0,\n",
              "          3869,    21,   780, 28780,     2,  6182,     3,  3849,     4,     1,\n",
              "          5023,    88,    20,     2,  1837,  1018,     7,    14,  3849,  3869,\n",
              "           881,   629,   976,     2,    23]),\n",
              " tensor([ 3849,  3869,   881,     9, 20000,    83,  3849,    88,     0,  3869,\n",
              "            21,   780, 28780,     2,  6182,     3,  3849,     4,     1,  5023,\n",
              "            88,    20,     2,  1837,  1018,     7,    14,  3849,  3869,   881,\n",
              "           629,   976,     2,    23,     8]))"
            ]
          },
          "metadata": {},
          "execution_count": 36
        }
      ],
      "source": [
        "train_set[0]"
      ]
    },
    {
      "cell_type": "markdown",
      "metadata": {
        "id": "NCQjacybOfqV"
      },
      "source": [
        "## 🟠 Define a dataloader if needed"
      ]
    },
    {
      "cell_type": "markdown",
      "metadata": {
        "id": "HqKMEyFNS-1a"
      },
      "source": [
        "🔰 Write dataloaders for the training, validation, and test sets."
      ]
    },
    {
      "cell_type": "code",
      "execution_count": null,
      "metadata": {
        "id": "KMCJ3UMD0U_f"
      },
      "outputs": [],
      "source": [
        "batch_size = 20\n",
        "\n",
        "train_loader = DataLoader(train_set, batch_size=batch_size, shuffle=True)\n",
        "valid_loader = DataLoader(valid_set, batch_size=batch_size, shuffle=False)\n",
        "test_loader = DataLoader(test_set, batch_size=batch_size, shuffle=False)"
      ]
    },
    {
      "cell_type": "code",
      "execution_count": null,
      "metadata": {
        "colab": {
          "base_uri": "https://localhost:8080/"
        },
        "id": "_lRY0FnUTDEN",
        "outputId": "57e35d99-6ae7-4856-b896-de0c9c3b7a23"
      },
      "outputs": [
        {
          "output_type": "execute_result",
          "data": {
            "text/plain": [
              "(torch.Size([20, 35]), torch.Size([20, 35]))"
            ]
          },
          "metadata": {},
          "execution_count": 38
        }
      ],
      "source": [
        "x_batch, y_batch = next(iter(train_loader))\n",
        "x_batch.shape, y_batch.shape"
      ]
    },
    {
      "cell_type": "markdown",
      "metadata": {
        "id": "3ttl0AK3Hvyh"
      },
      "source": [
        "# 🔴 **Model**"
      ]
    },
    {
      "cell_type": "markdown",
      "metadata": {
        "id": "06p-oBowTf-R"
      },
      "source": [
        "🔰 Use the following template to create a custom model.\n",
        "\n",
        "Your model should consist of three parts:\n",
        "\n",
        "*   an embedding layer\n",
        "*   an LSTM layer\n",
        "*   a fully connected layer"
      ]
    },
    {
      "cell_type": "code",
      "execution_count": null,
      "metadata": {
        "id": "ISnnHE0BMVqp"
      },
      "outputs": [],
      "source": [
        "class LanguageModel(nn.Module):\n",
        "\n",
        "  def __init__(self, vocab_size, embedding_dim, hidden_dim, num_layers,\n",
        "                dropout_embd=0.5, dropout_rnn=0.5):\n",
        "    super().__init__()\n",
        "    self.num_layers = num_layers\n",
        "    self.hidden_dim = hidden_dim\n",
        "    self.embedding_dim = embedding_dim\n",
        "\n",
        "    self.embedding = nn.Embedding(vocab_size, embedding_dim)\n",
        "    self.embedding.weight.data.uniform_(-0.1, 0.1)\n",
        "    self.dropout = nn.Dropout(p=dropout_embd)\n",
        "\n",
        "    self.lstm = nn.LSTM(embedding_dim, hidden_dim, num_layers=num_layers,\n",
        "                        dropout=dropout_rnn, batch_first=True)\n",
        "\n",
        "    self.fc = nn.Linear(hidden_dim, vocab_size)\n",
        "\n",
        "  def forward(self, src):\n",
        "    embedding = self.dropout(self.embedding(src))\n",
        "    output, hidden = self.lstm(embedding)\n",
        "    prediction = self.fc(output)\n",
        "    return prediction"
      ]
    },
    {
      "cell_type": "code",
      "execution_count": null,
      "metadata": {
        "colab": {
          "base_uri": "https://localhost:8080/"
        },
        "id": "2MgBVzorb9oQ",
        "outputId": "dbf4da5e-1d61-4cfc-d255-378e7592f607"
      },
      "outputs": [
        {
          "output_type": "execute_result",
          "data": {
            "text/plain": [
              "LanguageModel(\n",
              "  (embedding): Embedding(28782, 300)\n",
              "  (dropout): Dropout(p=0.65, inplace=False)\n",
              "  (lstm): LSTM(300, 512, num_layers=2, batch_first=True, dropout=0.5)\n",
              "  (fc): Linear(in_features=512, out_features=28782, bias=True)\n",
              ")"
            ]
          },
          "metadata": {},
          "execution_count": 40
        }
      ],
      "source": [
        "model = LanguageModel(vocab_size=len(vocab),\n",
        "                      embedding_dim=300,\n",
        "                      hidden_dim=512,\n",
        "                      num_layers=2,\n",
        "                      dropout_embd=0.65,\n",
        "                      dropout_rnn=0.5)\n",
        "model"
      ]
    },
    {
      "cell_type": "code",
      "execution_count": null,
      "metadata": {
        "colab": {
          "base_uri": "https://localhost:8080/"
        },
        "id": "rOpzY8sxbWYH",
        "outputId": "6bd6868b-fd81-48a6-c9c2-874efd045e9c"
      },
      "outputs": [
        {
          "output_type": "execute_result",
          "data": {
            "text/plain": [
              "torch.Size([20, 35, 28782])"
            ]
          },
          "metadata": {},
          "execution_count": 41
        }
      ],
      "source": [
        "model(x_batch).shape"
      ]
    },
    {
      "cell_type": "code",
      "execution_count": null,
      "metadata": {
        "colab": {
          "base_uri": "https://localhost:8080/"
        },
        "id": "2xNyCwU8bKQ6",
        "outputId": "c8cdb7b5-a40d-4f72-bf44-49d54d62610a"
      },
      "outputs": [
        {
          "output_type": "execute_result",
          "data": {
            "text/plain": [
              "(8.6346, 3.76832, 14.765166)"
            ]
          },
          "metadata": {},
          "execution_count": 42
        }
      ],
      "source": [
        "num_trainable_params(model.embedding), num_trainable_params(model.lstm), num_trainable_params(model.fc)"
      ]
    },
    {
      "cell_type": "markdown",
      "metadata": {
        "id": "24qT-sgUO2-d"
      },
      "source": [
        "# 🔴 **Config**"
      ]
    },
    {
      "cell_type": "code",
      "execution_count": null,
      "metadata": {
        "colab": {
          "base_uri": "https://localhost:8080/",
          "height": 35
        },
        "id": "Ma28M5Z36gsq",
        "outputId": "3926b361-c385-4207-cf73-801360d14ccd"
      },
      "outputs": [
        {
          "output_type": "execute_result",
          "data": {
            "text/plain": [
              "'cuda'"
            ],
            "application/vnd.google.colaboratory.intrinsic+json": {
              "type": "string"
            }
          },
          "metadata": {},
          "execution_count": 43
        }
      ],
      "source": [
        "device = 'cuda' if torch.cuda.is_available() else 'cpu'\n",
        "device"
      ]
    },
    {
      "cell_type": "code",
      "execution_count": null,
      "metadata": {
        "id": "sApSNggfknl_"
      },
      "outputs": [],
      "source": [
        "vocab_size = len(vocab)\n",
        "embedding_dim = 300\n",
        "hidden_dim = 512\n",
        "num_layers = 2\n",
        "dropout_embd = 0.5\n",
        "dropout_rnn = 0.2\n",
        "\n",
        "model = LanguageModel(vocab_size, embedding_dim,\n",
        "                      hidden_dim, num_layers,\n",
        "                      dropout_embd, dropout_rnn).to(device)"
      ]
    },
    {
      "cell_type": "markdown",
      "metadata": {
        "id": "bwYDJKjuduUT"
      },
      "source": [
        "🔰 Define the optimizer, loss function, metrics and other necessary parameters in this section, and ensure the model is sent to the appropriate device."
      ]
    },
    {
      "cell_type": "code",
      "execution_count": null,
      "metadata": {
        "id": "9ubk3xKaIG6i"
      },
      "outputs": [],
      "source": [
        "optimizer = optim.SGD(model.parameters(), lr=0.5, weight_decay=0, momentum=0.9, nesterov=True)\n",
        "\n",
        "loss_fn = nn.CrossEntropyLoss()\n",
        "\n",
        "metric = tm.text.Perplexity().to(device)"
      ]
    },
    {
      "cell_type": "code",
      "execution_count": null,
      "metadata": {
        "id": "70wSgN4YEJ23"
      },
      "outputs": [],
      "source": [
        "clip = 0.25"
      ]
    },
    {
      "cell_type": "markdown",
      "metadata": {
        "id": "W0QNbC0YPCKZ"
      },
      "source": [
        "# 🔴 **Train**"
      ]
    },
    {
      "cell_type": "markdown",
      "metadata": {
        "id": "yS6EF4HUhi5e"
      },
      "source": [
        "🔰 This is the template for train function, change it if needed."
      ]
    },
    {
      "cell_type": "code",
      "execution_count": null,
      "metadata": {
        "id": "WniOAgk0QyRI"
      },
      "outputs": [],
      "source": [
        "def train_one_epoch(model, train_loader, loss_fn, optimizer, metric, epoch=None):\n",
        "  model.train()\n",
        "  loss_train = AverageMeter()\n",
        "  metric.reset()\n",
        "\n",
        "  with tqdm.tqdm(train_loader, unit='batch') as tepoch:\n",
        "    for inputs, targets in tepoch:\n",
        "      if epoch:\n",
        "        tepoch.set_description(f'Epoch {epoch}')\n",
        "\n",
        "      inputs = inputs.to(device)\n",
        "      targets = targets.to(device)\n",
        "\n",
        "      outputs = model(inputs)\n",
        "\n",
        "      loss = loss_fn(outputs.reshape(-1, outputs.shape[-1]), targets.flatten())\n",
        "\n",
        "      loss.backward()\n",
        "\n",
        "      nn.utils.clip_grad.clip_grad_norm_(model.parameters(), max_norm=clip)\n",
        "\n",
        "      optimizer.step()\n",
        "      optimizer.zero_grad()\n",
        "\n",
        "      loss_train.update(loss.item(), n=len(targets))\n",
        "      metric.update(outputs, targets)\n",
        "\n",
        "      tepoch.set_postfix(loss=loss_train.avg, metric=metric.compute().item())\n",
        "\n",
        "  return model, loss_train.avg, metric.compute().item()"
      ]
    },
    {
      "cell_type": "markdown",
      "metadata": {
        "id": "G9HgVWslPGsH"
      },
      "source": [
        "# 🔴 **Evaluation**"
      ]
    },
    {
      "cell_type": "markdown",
      "metadata": {
        "id": "TsszJ7GVj2l3"
      },
      "source": [
        "🔰 This is the template for evaluation function, change it if needed."
      ]
    },
    {
      "cell_type": "code",
      "execution_count": null,
      "metadata": {
        "id": "uV0_67_ZQ0xf"
      },
      "outputs": [],
      "source": [
        "def evaluate(model, test_loader, loss_fn, metric):\n",
        "  model.eval()\n",
        "  loss_eval = AverageMeter()\n",
        "  metric.reset()\n",
        "\n",
        "  with torch.inference_mode():\n",
        "    for inputs, targets in test_loader:\n",
        "      inputs = inputs.to(device)\n",
        "      targets = targets.to(device)\n",
        "\n",
        "      outputs = model(inputs)\n",
        "\n",
        "      loss = loss_fn(outputs.reshape(-1, outputs.shape[-1]), targets.flatten())\n",
        "      loss_eval.update(loss.item(), n=len(targets))\n",
        "\n",
        "      metric(outputs, targets)\n",
        "\n",
        "  return loss_eval.avg, metric.compute().item()"
      ]
    },
    {
      "cell_type": "markdown",
      "metadata": {
        "id": "o_5f69nwPtY2"
      },
      "source": [
        "# 🔴 **Training Process**"
      ]
    },
    {
      "cell_type": "markdown",
      "metadata": {
        "id": "De7VreNxQdct"
      },
      "source": [
        "## 🟠 Finding Hyper-parameters"
      ]
    },
    {
      "cell_type": "markdown",
      "metadata": {
        "id": "lpJ3wtyctQJH"
      },
      "source": [
        "### 🟡 **Step 1:** Calculate the loss for an untrained model using a few batches.\n"
      ]
    },
    {
      "cell_type": "code",
      "execution_count": null,
      "metadata": {
        "colab": {
          "base_uri": "https://localhost:8080/"
        },
        "id": "QnE4F4GkzzaR",
        "outputId": "68eea979-e0d4-45a3-8a78-93987454f7a7"
      },
      "outputs": [
        {
          "output_type": "stream",
          "name": "stdout",
          "text": [
            "tensor(10.2694, device='cuda:0')\n"
          ]
        }
      ],
      "source": [
        "model = LanguageModel(len(vocab), embedding_dim=300,\n",
        "                      hidden_dim=512, num_layers=2,\n",
        "                      dropout_embd=0.5, dropout_rnn=0.2).to(device)\n",
        "\n",
        "inputs, targets = next(iter(train_loader))\n",
        "inputs = inputs.to(device)\n",
        "targets = targets.to(device)\n",
        "\n",
        "with torch.no_grad():\n",
        "  outputs = model(inputs)\n",
        "  loss = loss_fn(outputs.reshape(-1, outputs.shape[-1]), targets.flatten())\n",
        "\n",
        "print(loss)"
      ]
    },
    {
      "cell_type": "code",
      "execution_count": null,
      "metadata": {
        "colab": {
          "base_uri": "https://localhost:8080/"
        },
        "id": "pxHX7YRCBVxM",
        "outputId": "a6b4c837-921d-4d61-8904-05ce9778f6d5"
      },
      "outputs": [
        {
          "output_type": "execute_result",
          "data": {
            "text/plain": [
              "(torch.Size([700, 28782]), torch.Size([700]))"
            ]
          },
          "metadata": {},
          "execution_count": 50
        }
      ],
      "source": [
        "outputs.reshape(-1, outputs.shape[-1]).shape, targets.flatten().shape"
      ]
    },
    {
      "cell_type": "code",
      "execution_count": null,
      "metadata": {
        "id": "XHj-Mp8FA_DW"
      },
      "outputs": [],
      "source": [
        "torch.cuda.empty_cache()"
      ]
    },
    {
      "cell_type": "markdown",
      "metadata": {
        "id": "BrHQCv7q7LF_"
      },
      "source": [
        "### 🟡 **Step 2:** Try to train and overfit the model on a small subset of the dataset."
      ]
    },
    {
      "cell_type": "code",
      "execution_count": null,
      "metadata": {
        "id": "G0ji0MXsWaPt"
      },
      "outputs": [],
      "source": [
        "model = LanguageModel(len(vocab), embedding_dim=300,\n",
        "                      hidden_dim=512, num_layers=2,\n",
        "                      dropout_embd=0.5, dropout_rnn=0.2).to(device)\n",
        "\n",
        "optimizer = torch.optim.SGD(model.parameters(), lr=0.9, momentum=0.9)"
      ]
    },
    {
      "cell_type": "code",
      "execution_count": null,
      "metadata": {
        "id": "kPRZQpPWJ2qv"
      },
      "outputs": [],
      "source": [
        "mini_train_size = 1000\n",
        "_, mini_train_dataset = random_split(train_set, (len(train_set)-mini_train_size, mini_train_size))\n",
        "mini_train_loader = DataLoader(mini_train_dataset, 20)"
      ]
    },
    {
      "cell_type": "code",
      "execution_count": null,
      "metadata": {
        "colab": {
          "base_uri": "https://localhost:8080/"
        },
        "id": "6FNIFCM6A6al",
        "outputId": "ebea7d0d-c3fc-4b28-94cb-e2ccdd3ff931"
      },
      "outputs": [
        {
          "output_type": "stream",
          "name": "stderr",
          "text": [
            "100%|██████████| 50/50 [00:02<00:00, 24.78batch/s, loss=8.43, metric=4.56e+3]\n",
            "Epoch 1: 100%|██████████| 50/50 [00:01<00:00, 28.17batch/s, loss=7.2, metric=1.35e+3]\n",
            "Epoch 2: 100%|██████████| 50/50 [00:01<00:00, 28.69batch/s, loss=7.02, metric=1.12e+3]\n",
            "Epoch 3: 100%|██████████| 50/50 [00:01<00:00, 28.59batch/s, loss=6.94, metric=1.03e+3]\n",
            "Epoch 4: 100%|██████████| 50/50 [00:01<00:00, 28.65batch/s, loss=6.85, metric=947]\n",
            "Epoch 5: 100%|██████████| 50/50 [00:01<00:00, 28.44batch/s, loss=6.73, metric=835]\n",
            "Epoch 6: 100%|██████████| 50/50 [00:01<00:00, 28.39batch/s, loss=6.61, metric=740]\n",
            "Epoch 7: 100%|██████████| 50/50 [00:01<00:00, 27.95batch/s, loss=6.51, metric=671]\n",
            "Epoch 8: 100%|██████████| 50/50 [00:01<00:00, 27.58batch/s, loss=6.43, metric=619]\n",
            "Epoch 9: 100%|██████████| 50/50 [00:01<00:00, 28.27batch/s, loss=6.36, metric=576]\n",
            "Epoch 10: 100%|██████████| 50/50 [00:01<00:00, 28.25batch/s, loss=6.28, metric=534]\n",
            "Epoch 11: 100%|██████████| 50/50 [00:01<00:00, 28.25batch/s, loss=6.21, metric=496]\n",
            "Epoch 12: 100%|██████████| 50/50 [00:01<00:00, 28.04batch/s, loss=6.14, metric=462]\n",
            "Epoch 13: 100%|██████████| 50/50 [00:01<00:00, 28.15batch/s, loss=6.06, metric=427]\n",
            "Epoch 14: 100%|██████████| 50/50 [00:01<00:00, 27.92batch/s, loss=5.98, metric=397]\n",
            "Epoch 15: 100%|██████████| 50/50 [00:01<00:00, 27.78batch/s, loss=5.91, metric=368]\n",
            "Epoch 16: 100%|██████████| 50/50 [00:01<00:00, 27.74batch/s, loss=5.83, metric=341]\n",
            "Epoch 17: 100%|██████████| 50/50 [00:01<00:00, 27.83batch/s, loss=5.76, metric=317]\n",
            "Epoch 18: 100%|██████████| 50/50 [00:01<00:00, 27.81batch/s, loss=5.67, metric=290]\n",
            "Epoch 19: 100%|██████████| 50/50 [00:01<00:00, 27.69batch/s, loss=5.58, metric=266]\n",
            "Epoch 20: 100%|██████████| 50/50 [00:01<00:00, 27.67batch/s, loss=5.51, metric=246]\n",
            "Epoch 21: 100%|██████████| 50/50 [00:01<00:00, 27.45batch/s, loss=5.43, metric=227]\n",
            "Epoch 22: 100%|██████████| 50/50 [00:01<00:00, 27.01batch/s, loss=5.33, metric=206]\n",
            "Epoch 23: 100%|██████████| 50/50 [00:01<00:00, 27.03batch/s, loss=5.24, metric=188]\n",
            "Epoch 24: 100%|██████████| 50/50 [00:01<00:00, 27.37batch/s, loss=5.17, metric=177]\n",
            "Epoch 25: 100%|██████████| 50/50 [00:01<00:00, 27.45batch/s, loss=5.1, metric=165]\n",
            "Epoch 26: 100%|██████████| 50/50 [00:01<00:00, 27.29batch/s, loss=5.02, metric=152]\n",
            "Epoch 27: 100%|██████████| 50/50 [00:01<00:00, 27.23batch/s, loss=4.92, metric=137]\n",
            "Epoch 28: 100%|██████████| 50/50 [00:01<00:00, 27.17batch/s, loss=4.8, metric=122]\n",
            "Epoch 29: 100%|██████████| 50/50 [00:01<00:00, 26.90batch/s, loss=4.68, metric=108]\n",
            "Epoch 30: 100%|██████████| 50/50 [00:01<00:00, 26.74batch/s, loss=4.56, metric=95.8]\n",
            "Epoch 31: 100%|██████████| 50/50 [00:01<00:00, 27.19batch/s, loss=4.46, metric=86.6]\n",
            "Epoch 32: 100%|██████████| 50/50 [00:01<00:00, 27.02batch/s, loss=4.38, metric=79.8]\n",
            "Epoch 33: 100%|██████████| 50/50 [00:01<00:00, 27.02batch/s, loss=4.3, metric=73.9]\n",
            "Epoch 34: 100%|██████████| 50/50 [00:01<00:00, 26.99batch/s, loss=4.24, metric=69.3]\n",
            "Epoch 35: 100%|██████████| 50/50 [00:01<00:00, 26.81batch/s, loss=4.15, metric=63.1]\n",
            "Epoch 36: 100%|██████████| 50/50 [00:01<00:00, 26.66batch/s, loss=4.04, metric=56.6]\n",
            "Epoch 37: 100%|██████████| 50/50 [00:01<00:00, 26.40batch/s, loss=3.91, metric=49.7]\n",
            "Epoch 38: 100%|██████████| 50/50 [00:01<00:00, 26.73batch/s, loss=3.81, metric=45.3]\n",
            "Epoch 39: 100%|██████████| 50/50 [00:01<00:00, 26.74batch/s, loss=3.75, metric=42.7]\n",
            "Epoch 40: 100%|██████████| 50/50 [00:01<00:00, 26.75batch/s, loss=3.7, metric=40.4]\n",
            "Epoch 41: 100%|██████████| 50/50 [00:01<00:00, 26.71batch/s, loss=3.62, metric=37.5]\n",
            "Epoch 42: 100%|██████████| 50/50 [00:01<00:00, 26.52batch/s, loss=3.52, metric=33.7]\n",
            "Epoch 43: 100%|██████████| 50/50 [00:01<00:00, 26.43batch/s, loss=3.41, metric=30.3]\n",
            "Epoch 44: 100%|██████████| 50/50 [00:01<00:00, 26.55batch/s, loss=3.31, metric=27.5]\n",
            "Epoch 45: 100%|██████████| 50/50 [00:01<00:00, 26.65batch/s, loss=3.21, metric=24.8]\n",
            "Epoch 46: 100%|██████████| 50/50 [00:01<00:00, 26.70batch/s, loss=3.12, metric=22.5]\n",
            "Epoch 47: 100%|██████████| 50/50 [00:01<00:00, 26.68batch/s, loss=3, metric=20.1]\n",
            "Epoch 48: 100%|██████████| 50/50 [00:01<00:00, 26.78batch/s, loss=2.88, metric=17.9]\n",
            "Epoch 49: 100%|██████████| 50/50 [00:01<00:00, 26.70batch/s, loss=2.76, metric=15.9]\n",
            "Epoch 50: 100%|██████████| 50/50 [00:01<00:00, 26.40batch/s, loss=2.68, metric=14.6]\n",
            "Epoch 51: 100%|██████████| 50/50 [00:01<00:00, 26.77batch/s, loss=2.61, metric=13.6]\n",
            "Epoch 52: 100%|██████████| 50/50 [00:01<00:00, 26.93batch/s, loss=2.53, metric=12.5]\n",
            "Epoch 53: 100%|██████████| 50/50 [00:01<00:00, 26.95batch/s, loss=2.43, metric=11.3]\n",
            "Epoch 54: 100%|██████████| 50/50 [00:01<00:00, 26.90batch/s, loss=2.35, metric=10.5]\n",
            "Epoch 55: 100%|██████████| 50/50 [00:01<00:00, 26.99batch/s, loss=2.27, metric=9.71]\n",
            "Epoch 56: 100%|██████████| 50/50 [00:01<00:00, 27.01batch/s, loss=2.22, metric=9.17]\n",
            "Epoch 57: 100%|██████████| 50/50 [00:01<00:00, 26.79batch/s, loss=2.15, metric=8.55]\n",
            "Epoch 58: 100%|██████████| 50/50 [00:01<00:00, 26.56batch/s, loss=2.07, metric=7.94]\n",
            "Epoch 59: 100%|██████████| 50/50 [00:01<00:00, 27.12batch/s, loss=2, metric=7.42]\n",
            "Epoch 60: 100%|██████████| 50/50 [00:01<00:00, 27.14batch/s, loss=1.91, metric=6.75]\n",
            "Epoch 61: 100%|██████████| 50/50 [00:01<00:00, 27.12batch/s, loss=1.82, metric=6.17]\n",
            "Epoch 62: 100%|██████████| 50/50 [00:01<00:00, 27.01batch/s, loss=1.76, metric=5.8]\n",
            "Epoch 63: 100%|██████████| 50/50 [00:01<00:00, 27.15batch/s, loss=1.72, metric=5.57]\n",
            "Epoch 64: 100%|██████████| 50/50 [00:01<00:00, 26.70batch/s, loss=1.67, metric=5.32]\n",
            "Epoch 65: 100%|██████████| 50/50 [00:01<00:00, 26.91batch/s, loss=1.58, metric=4.86]\n",
            "Epoch 66: 100%|██████████| 50/50 [00:01<00:00, 27.13batch/s, loss=1.5, metric=4.48]\n",
            "Epoch 67: 100%|██████████| 50/50 [00:01<00:00, 27.15batch/s, loss=1.44, metric=4.23]\n",
            "Epoch 68: 100%|██████████| 50/50 [00:01<00:00, 26.99batch/s, loss=1.42, metric=4.14]\n",
            "Epoch 69: 100%|██████████| 50/50 [00:01<00:00, 27.06batch/s, loss=1.36, metric=3.89]\n",
            "Epoch 70: 100%|██████████| 50/50 [00:01<00:00, 26.97batch/s, loss=1.29, metric=3.65]\n",
            "Epoch 71: 100%|██████████| 50/50 [00:01<00:00, 26.41batch/s, loss=1.25, metric=3.49]\n",
            "Epoch 72: 100%|██████████| 50/50 [00:01<00:00, 26.76batch/s, loss=1.25, metric=3.49]\n",
            "Epoch 73: 100%|██████████| 50/50 [00:01<00:00, 26.96batch/s, loss=1.25, metric=3.51]\n",
            "Epoch 74: 100%|██████████| 50/50 [00:01<00:00, 27.04batch/s, loss=1.19, metric=3.29]\n",
            "Epoch 75: 100%|██████████| 50/50 [00:01<00:00, 26.89batch/s, loss=1.1, metric=3.01]\n",
            "Epoch 76: 100%|██████████| 50/50 [00:01<00:00, 27.00batch/s, loss=1.04, metric=2.82]\n",
            "Epoch 77: 100%|██████████| 50/50 [00:01<00:00, 26.84batch/s, loss=0.955, metric=2.6]\n",
            "Epoch 78: 100%|██████████| 50/50 [00:01<00:00, 26.75batch/s, loss=0.89, metric=2.43]\n",
            "Epoch 79: 100%|██████████| 50/50 [00:01<00:00, 26.85batch/s, loss=0.831, metric=2.3]\n",
            "Epoch 80: 100%|██████████| 50/50 [00:01<00:00, 26.91batch/s, loss=0.768, metric=2.16]\n",
            "Epoch 81: 100%|██████████| 50/50 [00:01<00:00, 26.89batch/s, loss=0.726, metric=2.07]\n",
            "Epoch 82: 100%|██████████| 50/50 [00:01<00:00, 26.89batch/s, loss=0.684, metric=1.98]\n",
            "Epoch 83: 100%|██████████| 50/50 [00:01<00:00, 26.82batch/s, loss=0.634, metric=1.89]\n",
            "Epoch 84: 100%|██████████| 50/50 [00:01<00:00, 26.92batch/s, loss=0.608, metric=1.84]\n",
            "Epoch 85: 100%|██████████| 50/50 [00:01<00:00, 26.42batch/s, loss=0.586, metric=1.8]\n",
            "Epoch 86: 100%|██████████| 50/50 [00:01<00:00, 26.31batch/s, loss=0.545, metric=1.72]\n",
            "Epoch 87: 100%|██████████| 50/50 [00:01<00:00, 26.82batch/s, loss=0.513, metric=1.67]\n",
            "Epoch 88: 100%|██████████| 50/50 [00:01<00:00, 26.82batch/s, loss=0.489, metric=1.63]\n",
            "Epoch 89: 100%|██████████| 50/50 [00:01<00:00, 26.80batch/s, loss=0.466, metric=1.59]\n",
            "Epoch 90: 100%|██████████| 50/50 [00:01<00:00, 26.86batch/s, loss=0.445, metric=1.56]\n",
            "Epoch 91: 100%|██████████| 50/50 [00:01<00:00, 26.98batch/s, loss=0.431, metric=1.54]\n",
            "Epoch 92: 100%|██████████| 50/50 [00:01<00:00, 26.68batch/s, loss=0.424, metric=1.53]\n",
            "Epoch 93: 100%|██████████| 50/50 [00:01<00:00, 26.45batch/s, loss=0.432, metric=1.54]\n",
            "Epoch 94: 100%|██████████| 50/50 [00:01<00:00, 26.83batch/s, loss=0.46, metric=1.58]\n",
            "Epoch 95: 100%|██████████| 50/50 [00:01<00:00, 26.88batch/s, loss=0.448, metric=1.57]\n",
            "Epoch 96: 100%|██████████| 50/50 [00:01<00:00, 26.92batch/s, loss=0.411, metric=1.51]\n",
            "Epoch 97: 100%|██████████| 50/50 [00:01<00:00, 26.87batch/s, loss=0.359, metric=1.43]\n",
            "Epoch 98: 100%|██████████| 50/50 [00:01<00:00, 27.06batch/s, loss=0.334, metric=1.4]\n",
            "Epoch 99: 100%|██████████| 50/50 [00:01<00:00, 26.71batch/s, loss=0.318, metric=1.37]\n"
          ]
        }
      ],
      "source": [
        "num_epochs = 100\n",
        "for epoch in range(num_epochs):\n",
        "  model, _, _ = train_one_epoch(model, mini_train_loader, loss_fn, optimizer, metric, epoch)"
      ]
    },
    {
      "cell_type": "markdown",
      "metadata": {
        "id": "BLT4w0ZfAhlJ"
      },
      "source": [
        "### 🟡 **Step 3:** Train the model for a limited number of epochs, experimenting with various learning rates."
      ]
    },
    {
      "cell_type": "code",
      "execution_count": null,
      "metadata": {
        "id": "AqFqm1smGVrX"
      },
      "outputs": [],
      "source": [
        "num_epochs = 1\n",
        "\n",
        "for lr in [2, 0.9, 0.5, 0.3, 0.09, 0.05]:\n",
        "  print(f'LR={lr}')\n",
        "\n",
        "  model = LanguageModel(len(vocab), embedding_dim=300,\n",
        "                      hidden_dim=512, num_layers=2,\n",
        "                      dropout_embd=0.5, dropout_rnn=0.2).to(device)\n",
        "  model = torch.load('/content/model-ppl_147.pt')\n",
        "\n",
        "  # optimizer = optim.SGD(model.parameters(), lr=lr, weight_decay=0, momentum=0.9)\n",
        "  optimizer = optim.SGD(model.parameters(), lr=lr, weight_decay=1e-6, momentum=0.9)\n",
        "\n",
        "  for epoch in range(num_epochs):\n",
        "    model, _, _ = train_one_epoch(model, train_loader, loss_fn, optimizer, metric, epoch)\n",
        "\n",
        "  print()"
      ]
    },
    {
      "cell_type": "markdown",
      "metadata": {
        "id": "uC2GhaXfA8vC"
      },
      "source": [
        "### 🟡 Step 4: Create a small grid using the weight decay and the best learning rate.\n",
        "\n",
        "\n",
        "\n"
      ]
    },
    {
      "cell_type": "code",
      "execution_count": null,
      "metadata": {
        "colab": {
          "base_uri": "https://localhost:8080/"
        },
        "id": "a7UeNW3WWaPu",
        "outputId": "26cc0aa7-e1b0-4f83-a3e4-ba3c22e071e0"
      },
      "outputs": [
        {
          "output_type": "stream",
          "name": "stdout",
          "text": [
            "LR=3.0, WD=1e-06\n"
          ]
        },
        {
          "output_type": "stream",
          "name": "stderr",
          "text": [
            "100%|██████████| 2929/2929 [01:51<00:00, 26.36batch/s, loss=5.89, metric=363]\n"
          ]
        },
        {
          "output_type": "stream",
          "name": "stdout",
          "text": [
            "\n",
            "LR=3.0, WD=0.0001\n"
          ]
        },
        {
          "output_type": "stream",
          "name": "stderr",
          "text": [
            "100%|██████████| 2929/2929 [01:50<00:00, 26.50batch/s, loss=6.26, metric=524]\n"
          ]
        },
        {
          "output_type": "stream",
          "name": "stdout",
          "text": [
            "\n",
            "LR=3.0, WD=1e-05\n"
          ]
        },
        {
          "output_type": "stream",
          "name": "stderr",
          "text": [
            "100%|██████████| 2929/2929 [01:50<00:00, 26.46batch/s, loss=5.93, metric=376]"
          ]
        },
        {
          "output_type": "stream",
          "name": "stdout",
          "text": [
            "\n"
          ]
        },
        {
          "output_type": "stream",
          "name": "stderr",
          "text": [
            "\n"
          ]
        }
      ],
      "source": [
        "num_epochs = 1\n",
        "\n",
        "for lr in [3.]:\n",
        "  for wd in [1e-6, 1e-4, 1e-5]:\n",
        "    print(f'LR={lr}, WD={wd}')\n",
        "\n",
        "    model = LanguageModel(len(vocab), embedding_dim=300,\n",
        "                      hidden_dim=512, num_layers=2,\n",
        "                      dropout_embd=0.5, dropout_rnn=0.2).to(device)\n",
        "\n",
        "    optimizer = optim.SGD(model.parameters(), lr=lr, weight_decay=wd, momentum=0.9)\n",
        "\n",
        "    for epoch in range(num_epochs):\n",
        "      model, _, _ = train_one_epoch(model, train_loader, loss_fn, optimizer, metric, epoch)\n",
        "\n",
        "    print()"
      ]
    },
    {
      "cell_type": "markdown",
      "metadata": {
        "id": "Mjd9Z3N1ef3I"
      },
      "source": [
        "### 🟡 Step 5: Train model for longer epochs using the best model from step 4.\n",
        "\n",
        "\n",
        "\n"
      ]
    },
    {
      "cell_type": "code",
      "execution_count": null,
      "metadata": {
        "id": "IWgkMgC6JWpU"
      },
      "outputs": [],
      "source": [
        "model = LanguageModel(len(vocab), embedding_dim=300,\n",
        "                      hidden_dim=512, num_layers=2,\n",
        "                      dropout_embd=0.5, dropout_rnn=0.5).to(device)"
      ]
    },
    {
      "cell_type": "code",
      "execution_count": null,
      "metadata": {
        "colab": {
          "base_uri": "https://localhost:8080/",
          "height": 17
        },
        "id": "go-HitNQV_R1",
        "outputId": "a63e4ce9-9b21-4582-898d-8a540fb8d30f"
      },
      "outputs": [
        {
          "data": {
            "text/html": [
              "<style>\n",
              "    body {\n",
              "      font-size: 24px;\n",
              "    }\n",
              "  "
            ],
            "text/plain": [
              "<IPython.core.display.HTML object>"
            ]
          },
          "metadata": {},
          "output_type": "display_data"
        }
      ],
      "source": [
        "model = torch.load('/content/model-ppl_133.pt')"
      ]
    },
    {
      "cell_type": "code",
      "execution_count": null,
      "metadata": {
        "id": "YVwLp-02JWpV"
      },
      "outputs": [],
      "source": [
        "lr = 0.05\n",
        "wd = 1e-6\n",
        "optimizer = optim.SGD(model.parameters(), lr=lr, weight_decay=wd, momentum=0.9)"
      ]
    },
    {
      "cell_type": "code",
      "execution_count": null,
      "metadata": {
        "id": "zqxSVVB7JWpW"
      },
      "outputs": [],
      "source": [
        "loss_train_hist = []\n",
        "loss_valid_hist = []\n",
        "\n",
        "metric_train_hist = []\n",
        "metric_valid_hist = []\n",
        "\n",
        "best_loss_valid = torch.inf\n",
        "epoch_counter = 0"
      ]
    },
    {
      "cell_type": "code",
      "execution_count": null,
      "metadata": {
        "colab": {
          "base_uri": "https://localhost:8080/"
        },
        "id": "eVqS9SEPJWpW",
        "outputId": "dae5b613-72c4-41f8-c675-9ad1b03a1b23"
      },
      "outputs": [
        {
          "metadata": {
            "tags": null
          },
          "name": "stderr",
          "output_type": "stream",
          "text": [
            "Epoch 1: 100%|██████████| 2929/2929 [01:52<00:00, 26.12batch/s, loss=7.15, metric=1.27e+3]\n"
          ]
        },
        {
          "metadata": {
            "tags": null
          },
          "name": "stdout",
          "output_type": "stream",
          "text": [
            "Model Saved!\n",
            "Valid: Loss = 6.741, Metric = 846.0\n",
            "\n"
          ]
        },
        {
          "metadata": {
            "tags": null
          },
          "name": "stderr",
          "output_type": "stream",
          "text": [
            "Epoch 2: 100%|██████████| 2929/2929 [01:52<00:00, 26.09batch/s, loss=6.95, metric=1.04e+3]\n"
          ]
        },
        {
          "metadata": {
            "tags": null
          },
          "name": "stdout",
          "output_type": "stream",
          "text": [
            "Model Saved!\n",
            "Valid: Loss = 6.711, Metric = 821.4\n",
            "\n"
          ]
        },
        {
          "metadata": {
            "tags": null
          },
          "name": "stderr",
          "output_type": "stream",
          "text": [
            "Epoch 3: 100%|██████████| 2929/2929 [01:52<00:00, 26.06batch/s, loss=6.84, metric=936]\n"
          ]
        },
        {
          "metadata": {
            "tags": null
          },
          "name": "stdout",
          "output_type": "stream",
          "text": [
            "Model Saved!\n",
            "Valid: Loss = 6.504, Metric = 668.0\n",
            "\n"
          ]
        },
        {
          "metadata": {
            "tags": null
          },
          "name": "stderr",
          "output_type": "stream",
          "text": [
            "Epoch 4: 100%|██████████| 2929/2929 [01:52<00:00, 26.02batch/s, loss=6.63, metric=761]\n"
          ]
        },
        {
          "metadata": {
            "tags": null
          },
          "name": "stdout",
          "output_type": "stream",
          "text": [
            "Model Saved!\n",
            "Valid: Loss = 6.342, Metric = 568.0\n",
            "\n"
          ]
        },
        {
          "metadata": {
            "tags": null
          },
          "name": "stderr",
          "output_type": "stream",
          "text": [
            "Epoch 5: 100%|██████████| 2929/2929 [01:52<00:00, 26.03batch/s, loss=6.51, metric=672]\n"
          ]
        },
        {
          "metadata": {
            "tags": null
          },
          "name": "stdout",
          "output_type": "stream",
          "text": [
            "Model Saved!\n",
            "Valid: Loss = 6.239, Metric = 512.5\n",
            "\n"
          ]
        },
        {
          "metadata": {
            "tags": null
          },
          "name": "stderr",
          "output_type": "stream",
          "text": [
            "Epoch 6: 100%|██████████| 2929/2929 [01:52<00:00, 26.00batch/s, loss=6.42, metric=612]\n"
          ]
        },
        {
          "metadata": {
            "tags": null
          },
          "name": "stdout",
          "output_type": "stream",
          "text": [
            "Model Saved!\n",
            "Valid: Loss = 6.147, Metric = 467.2\n",
            "\n"
          ]
        },
        {
          "metadata": {
            "tags": null
          },
          "name": "stderr",
          "output_type": "stream",
          "text": [
            "Epoch 7: 100%|██████████| 2929/2929 [01:52<00:00, 25.99batch/s, loss=6.34, metric=565]\n"
          ]
        },
        {
          "metadata": {
            "tags": null
          },
          "name": "stdout",
          "output_type": "stream",
          "text": [
            "Model Saved!\n",
            "Valid: Loss = 6.086, Metric = 439.8\n",
            "\n"
          ]
        },
        {
          "metadata": {
            "tags": null
          },
          "name": "stderr",
          "output_type": "stream",
          "text": [
            "Epoch 8: 100%|██████████| 2929/2929 [01:52<00:00, 26.04batch/s, loss=6.27, metric=529]\n"
          ]
        },
        {
          "metadata": {
            "tags": null
          },
          "name": "stdout",
          "output_type": "stream",
          "text": [
            "Model Saved!\n",
            "Valid: Loss = 6.017, Metric = 410.2\n",
            "\n"
          ]
        },
        {
          "metadata": {
            "tags": null
          },
          "name": "stderr",
          "output_type": "stream",
          "text": [
            "Epoch 9: 100%|██████████| 2929/2929 [01:52<00:00, 26.07batch/s, loss=6.21, metric=498]\n"
          ]
        },
        {
          "metadata": {
            "tags": null
          },
          "name": "stdout",
          "output_type": "stream",
          "text": [
            "Model Saved!\n",
            "Valid: Loss = 5.967, Metric = 390.2\n",
            "\n"
          ]
        },
        {
          "metadata": {
            "tags": null
          },
          "name": "stderr",
          "output_type": "stream",
          "text": [
            "Epoch 10: 100%|██████████| 2929/2929 [01:52<00:00, 26.01batch/s, loss=6.15, metric=471]\n"
          ]
        },
        {
          "metadata": {
            "tags": null
          },
          "name": "stdout",
          "output_type": "stream",
          "text": [
            "Model Saved!\n",
            "Valid: Loss = 5.91, Metric = 368.7\n",
            "\n"
          ]
        },
        {
          "metadata": {
            "tags": null
          },
          "name": "stderr",
          "output_type": "stream",
          "text": [
            "Epoch 11: 100%|██████████| 2929/2929 [01:53<00:00, 25.91batch/s, loss=6.1, metric=447]\n"
          ]
        },
        {
          "metadata": {
            "tags": null
          },
          "name": "stdout",
          "output_type": "stream",
          "text": [
            "Model Saved!\n",
            "Valid: Loss = 5.882, Metric = 358.7\n",
            "\n"
          ]
        },
        {
          "metadata": {
            "tags": null
          },
          "name": "stderr",
          "output_type": "stream",
          "text": [
            "Epoch 12: 100%|██████████| 2929/2929 [01:52<00:00, 25.94batch/s, loss=6.05, metric=426]\n"
          ]
        },
        {
          "metadata": {
            "tags": null
          },
          "name": "stdout",
          "output_type": "stream",
          "text": [
            "Model Saved!\n",
            "Valid: Loss = 5.825, Metric = 338.8\n",
            "\n"
          ]
        },
        {
          "metadata": {
            "tags": null
          },
          "name": "stderr",
          "output_type": "stream",
          "text": [
            "Epoch 13: 100%|██████████| 2929/2929 [01:52<00:00, 25.98batch/s, loss=6.01, metric=408]\n"
          ]
        },
        {
          "metadata": {
            "tags": null
          },
          "name": "stdout",
          "output_type": "stream",
          "text": [
            "Model Saved!\n",
            "Valid: Loss = 5.789, Metric = 326.6\n",
            "\n"
          ]
        },
        {
          "metadata": {
            "tags": null
          },
          "name": "stderr",
          "output_type": "stream",
          "text": [
            "Epoch 14: 100%|██████████| 2929/2929 [01:52<00:00, 26.02batch/s, loss=5.97, metric=392]\n"
          ]
        },
        {
          "metadata": {
            "tags": null
          },
          "name": "stdout",
          "output_type": "stream",
          "text": [
            "Model Saved!\n",
            "Valid: Loss = 5.748, Metric = 313.7\n",
            "\n"
          ]
        },
        {
          "metadata": {
            "tags": null
          },
          "name": "stderr",
          "output_type": "stream",
          "text": [
            "Epoch 15: 100%|██████████| 2929/2929 [01:53<00:00, 25.90batch/s, loss=5.93, metric=378]\n"
          ]
        },
        {
          "metadata": {
            "tags": null
          },
          "name": "stdout",
          "output_type": "stream",
          "text": [
            "Model Saved!\n",
            "Valid: Loss = 5.719, Metric = 304.5\n",
            "\n"
          ]
        },
        {
          "metadata": {
            "tags": null
          },
          "name": "stderr",
          "output_type": "stream",
          "text": [
            "Epoch 16: 100%|██████████| 2929/2929 [01:53<00:00, 25.89batch/s, loss=5.9, metric=365]\n"
          ]
        },
        {
          "metadata": {
            "tags": null
          },
          "name": "stdout",
          "output_type": "stream",
          "text": [
            "Model Saved!\n",
            "Valid: Loss = 5.694, Metric = 296.9\n",
            "\n"
          ]
        },
        {
          "metadata": {
            "tags": null
          },
          "name": "stderr",
          "output_type": "stream",
          "text": [
            "Epoch 17: 100%|██████████| 2929/2929 [01:52<00:00, 25.97batch/s, loss=5.87, metric=354]\n"
          ]
        },
        {
          "metadata": {
            "tags": null
          },
          "name": "stdout",
          "output_type": "stream",
          "text": [
            "Model Saved!\n",
            "Valid: Loss = 5.673, Metric = 290.8\n",
            "\n"
          ]
        },
        {
          "metadata": {
            "tags": null
          },
          "name": "stderr",
          "output_type": "stream",
          "text": [
            "Epoch 18: 100%|██████████| 2929/2929 [01:52<00:00, 25.94batch/s, loss=5.84, metric=343]\n"
          ]
        },
        {
          "metadata": {
            "tags": null
          },
          "name": "stdout",
          "output_type": "stream",
          "text": [
            "Model Saved!\n",
            "Valid: Loss = 5.643, Metric = 282.4\n",
            "\n"
          ]
        },
        {
          "metadata": {
            "tags": null
          },
          "name": "stderr",
          "output_type": "stream",
          "text": [
            "Epoch 19: 100%|██████████| 2929/2929 [01:52<00:00, 25.95batch/s, loss=5.81, metric=334]\n"
          ]
        },
        {
          "metadata": {
            "tags": null
          },
          "name": "stdout",
          "output_type": "stream",
          "text": [
            "Model Saved!\n",
            "Valid: Loss = 5.62, Metric = 275.8\n",
            "\n"
          ]
        },
        {
          "metadata": {
            "tags": null
          },
          "name": "stderr",
          "output_type": "stream",
          "text": [
            "Epoch 20: 100%|██████████| 2929/2929 [01:52<00:00, 25.92batch/s, loss=5.78, metric=325]\n"
          ]
        },
        {
          "metadata": {
            "tags": null
          },
          "name": "stdout",
          "output_type": "stream",
          "text": [
            "Model Saved!\n",
            "Valid: Loss = 5.602, Metric = 270.9\n",
            "\n"
          ]
        },
        {
          "metadata": {
            "tags": null
          },
          "name": "stderr",
          "output_type": "stream",
          "text": [
            "Epoch 21: 100%|██████████| 2929/2929 [01:52<00:00, 25.94batch/s, loss=5.76, metric=317]\n"
          ]
        },
        {
          "metadata": {
            "tags": null
          },
          "name": "stdout",
          "output_type": "stream",
          "text": [
            "Model Saved!\n",
            "Valid: Loss = 5.58, Metric = 265.2\n",
            "\n"
          ]
        },
        {
          "metadata": {
            "tags": null
          },
          "name": "stderr",
          "output_type": "stream",
          "text": [
            "Epoch 22: 100%|██████████| 2929/2929 [01:52<00:00, 25.94batch/s, loss=5.73, metric=309]\n"
          ]
        },
        {
          "metadata": {
            "tags": null
          },
          "name": "stdout",
          "output_type": "stream",
          "text": [
            "Model Saved!\n",
            "Valid: Loss = 5.563, Metric = 260.6\n",
            "\n"
          ]
        },
        {
          "metadata": {
            "tags": null
          },
          "name": "stderr",
          "output_type": "stream",
          "text": [
            "Epoch 23: 100%|██████████| 2929/2929 [01:52<00:00, 25.93batch/s, loss=5.71, metric=302]\n"
          ]
        },
        {
          "metadata": {
            "tags": null
          },
          "name": "stdout",
          "output_type": "stream",
          "text": [
            "Model Saved!\n",
            "Valid: Loss = 5.551, Metric = 257.4\n",
            "\n"
          ]
        },
        {
          "output_type": "stream",
          "name": "stderr",
          "text": [
            "Epoch 24: 100%|██████████| 2929/2929 [01:53<00:00, 25.91batch/s, loss=5.69, metric=295]\n"
          ]
        },
        {
          "output_type": "stream",
          "name": "stdout",
          "text": [
            "Model Saved!\n",
            "Valid: Loss = 5.532, Metric = 252.6\n",
            "\n"
          ]
        },
        {
          "output_type": "stream",
          "name": "stderr",
          "text": [
            "Epoch 25: 100%|██████████| 2929/2929 [01:53<00:00, 25.89batch/s, loss=5.67, metric=289]\n"
          ]
        },
        {
          "output_type": "stream",
          "name": "stdout",
          "text": [
            "Model Saved!\n",
            "Valid: Loss = 5.507, Metric = 246.3\n",
            "\n"
          ]
        },
        {
          "output_type": "stream",
          "name": "stderr",
          "text": [
            "Epoch 26: 100%|██████████| 2929/2929 [01:53<00:00, 25.86batch/s, loss=5.65, metric=283]\n"
          ]
        },
        {
          "output_type": "stream",
          "name": "stdout",
          "text": [
            "Model Saved!\n",
            "Valid: Loss = 5.502, Metric = 245.3\n",
            "\n"
          ]
        },
        {
          "output_type": "stream",
          "name": "stderr",
          "text": [
            "Epoch 27: 100%|██████████| 2929/2929 [01:53<00:00, 25.70batch/s, loss=5.63, metric=277]\n"
          ]
        },
        {
          "output_type": "stream",
          "name": "stdout",
          "text": [
            "Model Saved!\n",
            "Valid: Loss = 5.478, Metric = 239.3\n",
            "\n"
          ]
        },
        {
          "output_type": "stream",
          "name": "stderr",
          "text": [
            "Epoch 28: 100%|██████████| 2929/2929 [01:53<00:00, 25.71batch/s, loss=5.61, metric=272]\n"
          ]
        },
        {
          "output_type": "stream",
          "name": "stdout",
          "text": [
            "Model Saved!\n",
            "Valid: Loss = 5.471, Metric = 237.7\n",
            "\n"
          ]
        },
        {
          "output_type": "stream",
          "name": "stderr",
          "text": [
            "Epoch 29: 100%|██████████| 2929/2929 [01:53<00:00, 25.92batch/s, loss=5.59, metric=267]\n"
          ]
        },
        {
          "output_type": "stream",
          "name": "stdout",
          "text": [
            "Model Saved!\n",
            "Valid: Loss = 5.459, Metric = 234.9\n",
            "\n"
          ]
        },
        {
          "output_type": "stream",
          "name": "stderr",
          "text": [
            "Epoch 30: 100%|██████████| 2929/2929 [01:53<00:00, 25.86batch/s, loss=5.57, metric=262]\n"
          ]
        },
        {
          "output_type": "stream",
          "name": "stdout",
          "text": [
            "Model Saved!\n",
            "Valid: Loss = 5.443, Metric = 231.2\n",
            "\n"
          ]
        }
      ],
      "source": [
        "num_epochs = 30\n",
        "\n",
        "for epoch in range(1, num_epochs+1):\n",
        "  # Train\n",
        "  model, loss_train, metric_train = train_one_epoch(model,\n",
        "                                                    train_loader,\n",
        "                                                    loss_fn,\n",
        "                                                    optimizer,\n",
        "                                                    metric,\n",
        "                                                    epoch)\n",
        "  # Validation\n",
        "  loss_valid, metric_valid = evaluate(model,\n",
        "                                      valid_loader,\n",
        "                                      loss_fn,\n",
        "                                      metric)\n",
        "\n",
        "  loss_train_hist.append(loss_train)\n",
        "  loss_valid_hist.append(loss_valid)\n",
        "\n",
        "  metric_train_hist.append(metric_train)\n",
        "  metric_valid_hist.append(metric_valid)\n",
        "\n",
        "  if loss_valid < best_loss_valid:\n",
        "    torch.save(model, f'model.pt')\n",
        "    best_loss_valid = loss_valid\n",
        "    print('Model Saved!')\n",
        "\n",
        "  print(f'Valid: Loss = {loss_valid:.4}, Metric = {metric_valid:.4}')\n",
        "  print()\n",
        "\n",
        "  epoch_counter += 1"
      ]
    },
    {
      "cell_type": "markdown",
      "metadata": {
        "id": "rjGQ-M02cusP"
      },
      "source": [
        "## 🟠 Main Loop"
      ]
    },
    {
      "cell_type": "markdown",
      "metadata": {
        "id": "4AdYaMU4x34g"
      },
      "source": [
        "🔰 Define model."
      ]
    },
    {
      "cell_type": "markdown",
      "metadata": {
        "id": "AUKZRiQPxqrB"
      },
      "source": [
        "🔰 Define optimizer and Set learning rate and weight decay."
      ]
    },
    {
      "cell_type": "code",
      "execution_count": null,
      "metadata": {
        "id": "bowjVB5yIXUP"
      },
      "outputs": [],
      "source": [
        "\n",
        "optimizer = optim.SGD(model.parameters(), lr=lr, weight_decay=wd, momentum=0.9, nesterov=True)"
      ]
    },
    {
      "cell_type": "markdown",
      "metadata": {
        "id": "AUyFFIzlyaiB"
      },
      "source": [
        "🔰 Write code to train the model for `num_epochs` epoches."
      ]
    },
    {
      "cell_type": "code",
      "execution_count": null,
      "metadata": {
        "id": "CAXagB4yvtZd"
      },
      "outputs": [],
      "source": [
        "loss_train_hist = []\n",
        "loss_valid_hist = []\n",
        "\n",
        "metric_train_hist = []\n",
        "metric_valid_hist = []\n",
        "\n",
        "best_loss_valid = torch.inf\n",
        "epoch_counter = 0"
      ]
    },
    {
      "cell_type": "code",
      "execution_count": null,
      "metadata": {
        "id": "PovABWnU3ld0"
      },
      "outputs": [],
      "source": [
        "num_epochs =\n",
        "\n",
        "for epoch in range(num_epochs):\n",
        "  # Train\n",
        "  model, loss_train, metric_train = train_one_epoch(model,\n",
        "                                                 train_set,\n",
        "                                                 loss_fn,\n",
        "                                                 optimizer,\n",
        "                                                 metric,\n",
        "                                                 epoch)\n",
        "  # Validation\n",
        "  loss_valid, metric_valid = evaluate(model,\n",
        "                                     valid_set,\n",
        "                                     loss_fn,\n",
        "                                     metric)\n",
        "\n",
        "  loss_train_hist.append(loss_train)\n",
        "  loss_valid_hist.append(loss_valid)\n",
        "\n",
        "  metric_train_hist.append(metric_train)\n",
        "  metric_valid_hist.append(metric_valid)\n",
        "\n",
        "  if loss_valid < best_loss_valid:\n",
        "    torch.save(model, f'model.pt')\n",
        "    best_loss_valid = loss_valid\n",
        "    print('Model Saved!')\n",
        "\n",
        "  print(f'Valid: Loss = {loss_valid:.4}, Metric = {metric_valid:.4}')\n",
        "  print()\n",
        "\n",
        "  epoch_counter += 1"
      ]
    },
    {
      "cell_type": "markdown",
      "metadata": {
        "id": "oK20iNRI3Xxb"
      },
      "source": [
        "## 🟠 Plot"
      ]
    },
    {
      "cell_type": "markdown",
      "metadata": {
        "id": "IKlLvCwuzEAA"
      },
      "source": [
        "🔰 Plot learning curves"
      ]
    },
    {
      "cell_type": "code",
      "execution_count": null,
      "metadata": {
        "colab": {
          "base_uri": "https://localhost:8080/",
          "height": 575
        },
        "id": "KYFzTsdIOkVp",
        "outputId": "1f3d86a8-0bf7-4b53-a7db-27476c9d3334"
      },
      "outputs": [
        {
          "data": {
            "text/html": [
              "<style>\n",
              "    body {\n",
              "      font-size: 24px;\n",
              "    }\n",
              "  "
            ],
            "text/plain": [
              "<IPython.core.display.HTML object>"
            ]
          },
          "metadata": {},
          "output_type": "display_data"
        },
        {
          "data": {
            "text/plain": [
              "<matplotlib.legend.Legend at 0x792d0b520580>"
            ]
          },
          "execution_count": 156,
          "metadata": {},
          "output_type": "execute_result"
        },
        {
          "data": {
            "image/png": "[encoded data removed]",
            "text/plain": [
              "<Figure size 800x600 with 1 Axes>"
            ]
          },
          "metadata": {},
          "output_type": "display_data"
        }
      ],
      "source": [
        "plt.figure(figsize=(8, 6))\n",
        "\n",
        "plt.plot(range(epoch_counter), loss_train_hist, 'r-', label='Train')\n",
        "plt.plot(range(epoch_counter), loss_valid_hist, 'b-', label='Validation')\n",
        "\n",
        "plt.xlabel('Epoch')\n",
        "plt.ylabel('loss')\n",
        "plt.grid(True)\n",
        "plt.legend()"
      ]
    },
    {
      "cell_type": "markdown",
      "metadata": {
        "id": "KZ9UIdmkfxlA"
      },
      "source": [
        "# 🔴 **Test**"
      ]
    },
    {
      "cell_type": "markdown",
      "metadata": {
        "id": "SO8iPWH1zVYn"
      },
      "source": [
        "🔰 Test your model using data from the test set and images that are not present in the dataset."
      ]
    },
    {
      "cell_type": "code",
      "execution_count": null,
      "metadata": {
        "id": "09Q1Cwaa6sGb",
        "colab": {
          "base_uri": "https://localhost:8080/"
        },
        "outputId": "741e9b33-0373-4aa0-f94a-a75530fc3357"
      },
      "outputs": [
        {
          "output_type": "execute_result",
          "data": {
            "text/plain": [
              "LanguageModel(\n",
              "  (embedding): Embedding(28782, 300)\n",
              "  (dropout): Dropout(p=0.5, inplace=False)\n",
              "  (lstm): LSTM(300, 512, num_layers=2, batch_first=True, dropout=0.5)\n",
              "  (fc): Linear(in_features=512, out_features=28782, bias=True)\n",
              ")"
            ]
          },
          "metadata": {},
          "execution_count": 63
        }
      ],
      "source": [
        "model_path = '/content/model.pt'\n",
        "model = torch.load(model_path)\n",
        "model.eval()"
      ]
    },
    {
      "cell_type": "code",
      "execution_count": null,
      "metadata": {
        "id": "35sn67IhKcm_",
        "colab": {
          "base_uri": "https://localhost:8080/"
        },
        "outputId": "7e3ec99d-03cf-4976-f7a7-d8eb11b1816d"
      },
      "outputs": [
        {
          "output_type": "execute_result",
          "data": {
            "text/plain": [
              "231.17860412597656"
            ]
          },
          "metadata": {},
          "execution_count": 65
        }
      ],
      "source": [
        "loss_valid, metric_valid = evaluate(model, valid_loader, loss_fn, metric)\n",
        "metric_valid"
      ]
    },
    {
      "cell_type": "code",
      "source": [
        "loss_test, metric_test = evaluate(model, test_loader, loss_fn, metric)\n",
        "metric_test"
      ],
      "metadata": {
        "colab": {
          "base_uri": "https://localhost:8080/"
        },
        "id": "5fvGLJh5JXmv",
        "outputId": "a7dff7aa-4fd0-4889-c8b9-f4c598edc0de"
      },
      "execution_count": null,
      "outputs": [
        {
          "output_type": "execute_result",
          "data": {
            "text/plain": [
              "216.9165802001953"
            ]
          },
          "metadata": {},
          "execution_count": 78
        }
      ]
    },
    {
      "cell_type": "code",
      "source": [
        "model_path = 'model.pt'\n",
        "model = torch.load(model_path)\n",
        "model.eval()"
      ],
      "metadata": {
        "colab": {
          "base_uri": "https://localhost:8080/"
        },
        "id": "WYjnAkm9Jfq5",
        "outputId": "982784ad-d731-47f0-e722-43fbc6e2f072"
      },
      "execution_count": null,
      "outputs": [
        {
          "output_type": "execute_result",
          "data": {
            "text/plain": [
              "LanguageModel(\n",
              "  (embedding): Embedding(28782, 300)\n",
              "  (dropout): Dropout(p=0.5, inplace=False)\n",
              "  (lstm): LSTM(300, 512, num_layers=2, batch_first=True, dropout=0.5)\n",
              "  (fc): Linear(in_features=512, out_features=28782, bias=True)\n",
              ")"
            ]
          },
          "metadata": {},
          "execution_count": 66
        }
      ]
    },
    {
      "cell_type": "code",
      "source": [
        "prompt = 'In a galaxy far, far away, there'\n",
        "\n",
        "indices = vocab(tokenizer(prompt))\n",
        "itos = vocab.get_itos()\n",
        "\n",
        "max_seq_len = 35\n",
        "for i in range(max_seq_len):\n",
        "  src = torch.LongTensor(indices).to(device)\n",
        "\n",
        "  with torch.no_grad():\n",
        "    prediction = model(src)\n",
        "\n",
        "  # Method 1\n",
        "  # idx = torch.argmax(prediction[-1])\n",
        "  # itos = vocab.get_itos()\n",
        "  # itos[idx]\n",
        "\n",
        "  # Method 2\n",
        "  temperature = 0.5\n",
        "  probs = torch.softmax(prediction[-1]/temperature, dim=0)\n",
        "\n",
        "  idx = vocab['<ukn>']\n",
        "  while idx == vocab['<ukn>']:\n",
        "    idx = torch.multinomial(probs, num_samples=1).item()\n",
        "\n",
        "  token = itos[idx]\n",
        "  prompt += ' ' + token\n",
        "\n",
        "  if idx == vocab['.']:\n",
        "    break\n",
        "\n",
        "  indices.append(idx)\n",
        "\n",
        "print(prompt)"
      ],
      "metadata": {
        "colab": {
          "base_uri": "https://localhost:8080/"
        },
        "id": "Bk8uxZIoJj1G",
        "outputId": "2dd8f141-f2a2-4a20-d8c5-bbcf54afc92d"
      },
      "execution_count": null,
      "outputs": [
        {
          "output_type": "stream",
          "name": "stdout",
          "text": [
            "In a galaxy far, far away, there is a few @-@ distance @-@ than @-@ century , which is a range of the time .\n"
          ]
        }
      ]
    },
    {
      "cell_type": "code",
      "source": [
        "def generate(prompt, max_seq_len, temperature, model, tokenizer, vocab, seed=None):\n",
        "  if seed is not None:\n",
        "    torch.manual_seed(seed)\n",
        "\n",
        "  indices = vocab(tokenizer(prompt))\n",
        "  itos = vocab.get_itos()\n",
        "\n",
        "  for i in range(max_seq_len):\n",
        "    src = torch.LongTensor(indices).to(device)\n",
        "\n",
        "    with torch.no_grad():\n",
        "      prediction = model(src)\n",
        "\n",
        "    # Method 1\n",
        "    # idx = torch.argmax(prediction[-1])\n",
        "    # itos = vocab.get_itos()\n",
        "    # itos[idx]\n",
        "\n",
        "    # Method 2\n",
        "    probs = torch.softmax(prediction[-1]/temperature, dim=0)\n",
        "\n",
        "    idx = vocab['<ukn>']\n",
        "    while idx == vocab['<ukn>']:\n",
        "      idx = torch.multinomial(probs, num_samples=1).item()\n",
        "\n",
        "    token = itos[idx]\n",
        "    prompt += ' ' + token\n",
        "\n",
        "    if idx == vocab['.']:\n",
        "      return prompt\n",
        "\n",
        "    indices.append(idx)\n",
        "\n",
        "  return prompt"
      ],
      "metadata": {
        "id": "cE9oNzG7JrA6"
      },
      "execution_count": null,
      "outputs": []
    },
    {
      "cell_type": "code",
      "source": [
        "prompt = 'In a galaxy far, far away, there'\n",
        "prompt = 'The sun was setting in the'\n",
        "prompt = 'Once upon a time, there lived a young princess named'\n",
        "prompt = 'What is the meaning '\n",
        "\n",
        "generate(prompt, 35, 0.5, model, tokenizer, vocab)"
      ],
      "metadata": {
        "colab": {
          "base_uri": "https://localhost:8080/",
          "height": 35
        },
        "id": "nq_saUWYJuDX",
        "outputId": "9d5569dc-25a8-47dc-f47d-78c380cc023e"
      },
      "execution_count": null,
      "outputs": [
        {
          "output_type": "execute_result",
          "data": {
            "text/plain": [
              "'What is the meaning  of the world .'"
            ],
            "application/vnd.google.colaboratory.intrinsic+json": {
              "type": "string"
            }
          },
          "metadata": {},
          "execution_count": 77
        }
      ]
    }
  ],
  "metadata": {
    "accelerator": "GPU",
    "colab": {
      "collapsed_sections": [
        "VrFCH9hpEyip",
        "UcNIGF4CUCk3",
        "AFHw176FhqQa",
        "3in1e9BksgIh",
        "uWoVZ_MuKif0",
        "w_a3OXnSeV0z",
        "RwaY_YcgRayy",
        "RTql4Ftiunfr",
        "ujIVtjsYvxOI",
        "wCi-ofSLCzop",
        "B29jrEvwRqXA",
        "pHtoYxEPd3bL",
        "A3rnR739GbYb",
        "a4HyLPqcsF43",
        "cfBasjQCE_aI",
        "idRexFij4wgN",
        "PgLgP04P4-aX",
        "NCQjacybOfqV",
        "3ttl0AK3Hvyh",
        "24qT-sgUO2-d",
        "W0QNbC0YPCKZ",
        "G9HgVWslPGsH",
        "o_5f69nwPtY2",
        "De7VreNxQdct",
        "lpJ3wtyctQJH",
        "BrHQCv7q7LF_",
        "BLT4w0ZfAhlJ",
        "uC2GhaXfA8vC",
        "Mjd9Z3N1ef3I",
        "rjGQ-M02cusP",
        "oK20iNRI3Xxb",
        "KZ9UIdmkfxlA"
      ],
      "gpuType": "T4",
      "provenance": []
    },
    "kernelspec": {
      "display_name": "Python 3",
      "name": "python3"
    },
    "language_info": {
      "name": "python"
    }
  },
  "nbformat": 4,
  "nbformat_minor": 0
}